{
 "cells": [
  {
   "cell_type": "code",
   "execution_count": 4,
   "metadata": {},
   "outputs": [],
   "source": [
    "import requests\n",
    "from bs4 import BeautifulSoup\n",
    "import sys\n",
    "import pandas as pd\n",
    "import numpy as np\n",
    "from time import sleep\n",
    "from random import randint"
   ]
  },
  {
   "cell_type": "markdown",
   "metadata": {},
   "source": [
    "###  Процедура по выводу progressbar"
   ]
  },
  {
   "cell_type": "code",
   "execution_count": 5,
   "metadata": {},
   "outputs": [],
   "source": [
    "def progress(count, total, suffix=''):\n",
    "    bar_len = 40\n",
    "    filled_len = int(round(bar_len * count / float(total)))\n",
    "\n",
    "    percents = round(100.0 * count / float(total), 2)\n",
    "    bar = '=' * filled_len + '-' * (bar_len - filled_len)\n",
    "\n",
    "    sys.stdout.write('[%s] %s%s ...%s\\r' % (bar, percents, '%', suffix))\n",
    "    sys.stdout.flush()"
   ]
  },
  {
   "cell_type": "code",
   "execution_count": 3,
   "metadata": {},
   "outputs": [],
   "source": [
    "# for i in range(3564):\n",
    "#     progress(i, 3563, 'обработано')"
   ]
  },
  {
   "cell_type": "code",
   "execution_count": 454,
   "metadata": {},
   "outputs": [],
   "source": [
    "# START_URL = 'https://www.b2b-center.ru/market/?show=archive'\n",
    "# HEADERS = {'user-agent': 'Mozilla/5.0 (Windows NT 10.0; Win64; x64) AppleWebKit/537.36 (KHTML, like Gecko) '+\\\n",
    "#            'Chrome/86.0.4240.111 Safari/537.36',\n",
    "#            'accept': 'text/html,application/xhtml+xml,application/xml;q=0.9,image/avif,image/webp,image/apng,*/*;'+\\\n",
    "#            'q=0.8,application/signed-exchange;v=b3;q=0.9'}\n",
    "# HOST = 'https://www.b2b-center.ru'\n",
    "# REC_PER_PAGE = 20"
   ]
  },
  {
   "cell_type": "code",
   "execution_count": 10,
   "metadata": {},
   "outputs": [],
   "source": [
    "START_URL = 'https://m.b2b-center.ru/market/?show=archive'\n",
    "HEADERS = {'user-agent': 'Mozilla/5.0 (Linux; Android 10; Redmi Note 9 Pro) AppleWebKit/537.36' + \\\n",
    "           '(KHTML, like Gecko) Chrome/86.0.4240.110 Mobile Safari/537.36',\n",
    "           'accept': 'text/html,application/xhtml+xml,application/xml;q=0.9,image/webp,image/apng,*/*;'+\\\n",
    "           'q=0.8,application/signed-exchange;v=b3;q=0.9'}\n",
    "HOST = 'https://www.b2b-center.ru'\n",
    "REC_PER_PAGE = 10"
   ]
  },
  {
   "cell_type": "markdown",
   "metadata": {},
   "source": [
    "### Иницилизация DataFrame"
   ]
  },
  {
   "cell_type": "code",
   "execution_count": 400,
   "metadata": {},
   "outputs": [],
   "source": [
    "def df_init():\n",
    "    global df_columns\n",
    "    global df\n",
    "    df_columns=['Id','Type','Name','Sponsor','Link','Start_date','End_date']\n",
    "    df = pd.DataFrame(columns=df_columns)\n",
    "    # df['Id'] = df['Id'].astype('int64')"
   ]
  },
  {
   "cell_type": "markdown",
   "metadata": {},
   "source": [
    "### Функция по заполнению ДатаФрейма данными из страницы со списком закупок"
   ]
  },
  {
   "cell_type": "code",
   "execution_count": 417,
   "metadata": {},
   "outputs": [],
   "source": [
    "def parse_list_page(html):\n",
    "    soup = BeautifulSoup(html.text, 'html.parser')\n",
    "    search_table = soup.find_all('table', class_='table table-hover table-filled search-results')\n",
    "\n",
    "    links = search_table[0].tbody.find_all('a')\n",
    "    dates = search_table[0].tbody.find_all('td', class_='nowrap')\n",
    "\n",
    "    for i in range(0, len(links), 2):\n",
    "        auc_id = links[i].text.split('\\n')[0].split('№')[1].strip() # Номер торгов\n",
    "        if not len(df[df['Id'] == auc_id]):\n",
    "            auc_type = links[i].text.split('\\n')[0].split('№')[0].strip() # Вид торгов\n",
    "            auc_name = links[i].text.split('\\n')[1].strip() # if len(links[i].text.split('\\n')) > 1 else '11' # Название торгов\n",
    "            auc_name = np.nan if len(auc_name) == 0 else auc_name\n",
    "            sponsor = np.nan if len(links[i+1].text.strip()) == 0 else links[i+1].text.strip() # Наименование органзатора\n",
    "            auc_link = HOST + links[i].get('href').split('#')[0] # Ссылка на страницу торгов\n",
    "            start_date = dates[i].text # Колонка \"Опубликовано\"\n",
    "            end_date = dates[i+1].text # Колонка \"Актуально до\"\n",
    "            add_list = [auc_id, auc_type, auc_name, sponsor, auc_link, start_date, end_date]\n",
    "            df.loc[len(df)] = add_list"
   ]
  },
  {
   "cell_type": "code",
   "execution_count": 24,
   "metadata": {},
   "outputs": [
    {
     "name": "stdout",
     "output_type": "stream",
     "text": [
      "1 2 3 4 5 6 7 8 9 10 11 12 13 14 15 16 17 18 19 20 21 22 23 24 25 26 27 28 29 30 31 32 33 34 35 36 37 38 39 40 41 42 43 44 45 46 47 48 49 50 51 52 53 54 55 56 57 58 59 60 61 62 63 "
     ]
    },
    {
     "ename": "KeyboardInterrupt",
     "evalue": "",
     "output_type": "error",
     "traceback": [
      "\u001b[1;31m---------------------------------------------------------------------------\u001b[0m",
      "\u001b[1;31mKeyboardInterrupt\u001b[0m                         Traceback (most recent call last)",
      "\u001b[1;32m<timed exec>\u001b[0m in \u001b[0;36m<module>\u001b[1;34m\u001b[0m\n",
      "\u001b[1;32m<ipython-input-7-6d45ba819969>\u001b[0m in \u001b[0;36mget_html\u001b[1;34m(url, params)\u001b[0m\n\u001b[0;32m      1\u001b[0m \u001b[1;32mdef\u001b[0m \u001b[0mget_html\u001b[0m\u001b[1;33m(\u001b[0m\u001b[0murl\u001b[0m\u001b[1;33m,\u001b[0m \u001b[0mparams\u001b[0m\u001b[1;33m=\u001b[0m\u001b[1;32mNone\u001b[0m\u001b[1;33m)\u001b[0m\u001b[1;33m:\u001b[0m\u001b[1;33m\u001b[0m\u001b[1;33m\u001b[0m\u001b[0m\n\u001b[1;32m----> 2\u001b[1;33m     \u001b[0mr\u001b[0m \u001b[1;33m=\u001b[0m \u001b[0mrequests\u001b[0m\u001b[1;33m.\u001b[0m\u001b[0mget\u001b[0m\u001b[1;33m(\u001b[0m\u001b[0murl\u001b[0m\u001b[1;33m,\u001b[0m \u001b[0mheaders\u001b[0m\u001b[1;33m=\u001b[0m\u001b[0mHEADERS\u001b[0m\u001b[1;33m,\u001b[0m \u001b[0mparams\u001b[0m\u001b[1;33m=\u001b[0m\u001b[0mparams\u001b[0m\u001b[1;33m)\u001b[0m\u001b[1;33m\u001b[0m\u001b[1;33m\u001b[0m\u001b[0m\n\u001b[0m\u001b[0;32m      3\u001b[0m     \u001b[1;32mreturn\u001b[0m \u001b[0mr\u001b[0m\u001b[1;33m\u001b[0m\u001b[1;33m\u001b[0m\u001b[0m\n",
      "\u001b[1;32mC:\\ProgramData\\Anaconda3\\lib\\site-packages\\requests\\api.py\u001b[0m in \u001b[0;36mget\u001b[1;34m(url, params, **kwargs)\u001b[0m\n\u001b[0;32m     74\u001b[0m \u001b[1;33m\u001b[0m\u001b[0m\n\u001b[0;32m     75\u001b[0m     \u001b[0mkwargs\u001b[0m\u001b[1;33m.\u001b[0m\u001b[0msetdefault\u001b[0m\u001b[1;33m(\u001b[0m\u001b[1;34m'allow_redirects'\u001b[0m\u001b[1;33m,\u001b[0m \u001b[1;32mTrue\u001b[0m\u001b[1;33m)\u001b[0m\u001b[1;33m\u001b[0m\u001b[1;33m\u001b[0m\u001b[0m\n\u001b[1;32m---> 76\u001b[1;33m     \u001b[1;32mreturn\u001b[0m \u001b[0mrequest\u001b[0m\u001b[1;33m(\u001b[0m\u001b[1;34m'get'\u001b[0m\u001b[1;33m,\u001b[0m \u001b[0murl\u001b[0m\u001b[1;33m,\u001b[0m \u001b[0mparams\u001b[0m\u001b[1;33m=\u001b[0m\u001b[0mparams\u001b[0m\u001b[1;33m,\u001b[0m \u001b[1;33m**\u001b[0m\u001b[0mkwargs\u001b[0m\u001b[1;33m)\u001b[0m\u001b[1;33m\u001b[0m\u001b[1;33m\u001b[0m\u001b[0m\n\u001b[0m\u001b[0;32m     77\u001b[0m \u001b[1;33m\u001b[0m\u001b[0m\n\u001b[0;32m     78\u001b[0m \u001b[1;33m\u001b[0m\u001b[0m\n",
      "\u001b[1;32mC:\\ProgramData\\Anaconda3\\lib\\site-packages\\requests\\api.py\u001b[0m in \u001b[0;36mrequest\u001b[1;34m(method, url, **kwargs)\u001b[0m\n\u001b[0;32m     59\u001b[0m     \u001b[1;31m# cases, and look like a memory leak in others.\u001b[0m\u001b[1;33m\u001b[0m\u001b[1;33m\u001b[0m\u001b[1;33m\u001b[0m\u001b[0m\n\u001b[0;32m     60\u001b[0m     \u001b[1;32mwith\u001b[0m \u001b[0msessions\u001b[0m\u001b[1;33m.\u001b[0m\u001b[0mSession\u001b[0m\u001b[1;33m(\u001b[0m\u001b[1;33m)\u001b[0m \u001b[1;32mas\u001b[0m \u001b[0msession\u001b[0m\u001b[1;33m:\u001b[0m\u001b[1;33m\u001b[0m\u001b[1;33m\u001b[0m\u001b[0m\n\u001b[1;32m---> 61\u001b[1;33m         \u001b[1;32mreturn\u001b[0m \u001b[0msession\u001b[0m\u001b[1;33m.\u001b[0m\u001b[0mrequest\u001b[0m\u001b[1;33m(\u001b[0m\u001b[0mmethod\u001b[0m\u001b[1;33m=\u001b[0m\u001b[0mmethod\u001b[0m\u001b[1;33m,\u001b[0m \u001b[0murl\u001b[0m\u001b[1;33m=\u001b[0m\u001b[0murl\u001b[0m\u001b[1;33m,\u001b[0m \u001b[1;33m**\u001b[0m\u001b[0mkwargs\u001b[0m\u001b[1;33m)\u001b[0m\u001b[1;33m\u001b[0m\u001b[1;33m\u001b[0m\u001b[0m\n\u001b[0m\u001b[0;32m     62\u001b[0m \u001b[1;33m\u001b[0m\u001b[0m\n\u001b[0;32m     63\u001b[0m \u001b[1;33m\u001b[0m\u001b[0m\n",
      "\u001b[1;32mC:\\ProgramData\\Anaconda3\\lib\\site-packages\\requests\\sessions.py\u001b[0m in \u001b[0;36mrequest\u001b[1;34m(self, method, url, params, data, headers, cookies, files, auth, timeout, allow_redirects, proxies, hooks, stream, verify, cert, json)\u001b[0m\n\u001b[0;32m    528\u001b[0m         }\n\u001b[0;32m    529\u001b[0m         \u001b[0msend_kwargs\u001b[0m\u001b[1;33m.\u001b[0m\u001b[0mupdate\u001b[0m\u001b[1;33m(\u001b[0m\u001b[0msettings\u001b[0m\u001b[1;33m)\u001b[0m\u001b[1;33m\u001b[0m\u001b[1;33m\u001b[0m\u001b[0m\n\u001b[1;32m--> 530\u001b[1;33m         \u001b[0mresp\u001b[0m \u001b[1;33m=\u001b[0m \u001b[0mself\u001b[0m\u001b[1;33m.\u001b[0m\u001b[0msend\u001b[0m\u001b[1;33m(\u001b[0m\u001b[0mprep\u001b[0m\u001b[1;33m,\u001b[0m \u001b[1;33m**\u001b[0m\u001b[0msend_kwargs\u001b[0m\u001b[1;33m)\u001b[0m\u001b[1;33m\u001b[0m\u001b[1;33m\u001b[0m\u001b[0m\n\u001b[0m\u001b[0;32m    531\u001b[0m \u001b[1;33m\u001b[0m\u001b[0m\n\u001b[0;32m    532\u001b[0m         \u001b[1;32mreturn\u001b[0m \u001b[0mresp\u001b[0m\u001b[1;33m\u001b[0m\u001b[1;33m\u001b[0m\u001b[0m\n",
      "\u001b[1;32mC:\\ProgramData\\Anaconda3\\lib\\site-packages\\requests\\sessions.py\u001b[0m in \u001b[0;36msend\u001b[1;34m(self, request, **kwargs)\u001b[0m\n\u001b[0;32m    663\u001b[0m             \u001b[1;31m# Redirect resolving generator.\u001b[0m\u001b[1;33m\u001b[0m\u001b[1;33m\u001b[0m\u001b[1;33m\u001b[0m\u001b[0m\n\u001b[0;32m    664\u001b[0m             \u001b[0mgen\u001b[0m \u001b[1;33m=\u001b[0m \u001b[0mself\u001b[0m\u001b[1;33m.\u001b[0m\u001b[0mresolve_redirects\u001b[0m\u001b[1;33m(\u001b[0m\u001b[0mr\u001b[0m\u001b[1;33m,\u001b[0m \u001b[0mrequest\u001b[0m\u001b[1;33m,\u001b[0m \u001b[1;33m**\u001b[0m\u001b[0mkwargs\u001b[0m\u001b[1;33m)\u001b[0m\u001b[1;33m\u001b[0m\u001b[1;33m\u001b[0m\u001b[0m\n\u001b[1;32m--> 665\u001b[1;33m             \u001b[0mhistory\u001b[0m \u001b[1;33m=\u001b[0m \u001b[1;33m[\u001b[0m\u001b[0mresp\u001b[0m \u001b[1;32mfor\u001b[0m \u001b[0mresp\u001b[0m \u001b[1;32min\u001b[0m \u001b[0mgen\u001b[0m\u001b[1;33m]\u001b[0m\u001b[1;33m\u001b[0m\u001b[1;33m\u001b[0m\u001b[0m\n\u001b[0m\u001b[0;32m    666\u001b[0m         \u001b[1;32melse\u001b[0m\u001b[1;33m:\u001b[0m\u001b[1;33m\u001b[0m\u001b[1;33m\u001b[0m\u001b[0m\n\u001b[0;32m    667\u001b[0m             \u001b[0mhistory\u001b[0m \u001b[1;33m=\u001b[0m \u001b[1;33m[\u001b[0m\u001b[1;33m]\u001b[0m\u001b[1;33m\u001b[0m\u001b[1;33m\u001b[0m\u001b[0m\n",
      "\u001b[1;32mC:\\ProgramData\\Anaconda3\\lib\\site-packages\\requests\\sessions.py\u001b[0m in \u001b[0;36m<listcomp>\u001b[1;34m(.0)\u001b[0m\n\u001b[0;32m    663\u001b[0m             \u001b[1;31m# Redirect resolving generator.\u001b[0m\u001b[1;33m\u001b[0m\u001b[1;33m\u001b[0m\u001b[1;33m\u001b[0m\u001b[0m\n\u001b[0;32m    664\u001b[0m             \u001b[0mgen\u001b[0m \u001b[1;33m=\u001b[0m \u001b[0mself\u001b[0m\u001b[1;33m.\u001b[0m\u001b[0mresolve_redirects\u001b[0m\u001b[1;33m(\u001b[0m\u001b[0mr\u001b[0m\u001b[1;33m,\u001b[0m \u001b[0mrequest\u001b[0m\u001b[1;33m,\u001b[0m \u001b[1;33m**\u001b[0m\u001b[0mkwargs\u001b[0m\u001b[1;33m)\u001b[0m\u001b[1;33m\u001b[0m\u001b[1;33m\u001b[0m\u001b[0m\n\u001b[1;32m--> 665\u001b[1;33m             \u001b[0mhistory\u001b[0m \u001b[1;33m=\u001b[0m \u001b[1;33m[\u001b[0m\u001b[0mresp\u001b[0m \u001b[1;32mfor\u001b[0m \u001b[0mresp\u001b[0m \u001b[1;32min\u001b[0m \u001b[0mgen\u001b[0m\u001b[1;33m]\u001b[0m\u001b[1;33m\u001b[0m\u001b[1;33m\u001b[0m\u001b[0m\n\u001b[0m\u001b[0;32m    666\u001b[0m         \u001b[1;32melse\u001b[0m\u001b[1;33m:\u001b[0m\u001b[1;33m\u001b[0m\u001b[1;33m\u001b[0m\u001b[0m\n\u001b[0;32m    667\u001b[0m             \u001b[0mhistory\u001b[0m \u001b[1;33m=\u001b[0m \u001b[1;33m[\u001b[0m\u001b[1;33m]\u001b[0m\u001b[1;33m\u001b[0m\u001b[1;33m\u001b[0m\u001b[0m\n",
      "\u001b[1;32mC:\\ProgramData\\Anaconda3\\lib\\site-packages\\requests\\sessions.py\u001b[0m in \u001b[0;36mresolve_redirects\u001b[1;34m(self, resp, req, stream, timeout, verify, cert, proxies, yield_requests, **adapter_kwargs)\u001b[0m\n\u001b[0;32m    235\u001b[0m             \u001b[1;32melse\u001b[0m\u001b[1;33m:\u001b[0m\u001b[1;33m\u001b[0m\u001b[1;33m\u001b[0m\u001b[0m\n\u001b[0;32m    236\u001b[0m \u001b[1;33m\u001b[0m\u001b[0m\n\u001b[1;32m--> 237\u001b[1;33m                 resp = self.send(\n\u001b[0m\u001b[0;32m    238\u001b[0m                     \u001b[0mreq\u001b[0m\u001b[1;33m,\u001b[0m\u001b[1;33m\u001b[0m\u001b[1;33m\u001b[0m\u001b[0m\n\u001b[0;32m    239\u001b[0m                     \u001b[0mstream\u001b[0m\u001b[1;33m=\u001b[0m\u001b[0mstream\u001b[0m\u001b[1;33m,\u001b[0m\u001b[1;33m\u001b[0m\u001b[1;33m\u001b[0m\u001b[0m\n",
      "\u001b[1;32mC:\\ProgramData\\Anaconda3\\lib\\site-packages\\requests\\sessions.py\u001b[0m in \u001b[0;36msend\u001b[1;34m(self, request, **kwargs)\u001b[0m\n\u001b[0;32m    641\u001b[0m \u001b[1;33m\u001b[0m\u001b[0m\n\u001b[0;32m    642\u001b[0m         \u001b[1;31m# Send the request\u001b[0m\u001b[1;33m\u001b[0m\u001b[1;33m\u001b[0m\u001b[1;33m\u001b[0m\u001b[0m\n\u001b[1;32m--> 643\u001b[1;33m         \u001b[0mr\u001b[0m \u001b[1;33m=\u001b[0m \u001b[0madapter\u001b[0m\u001b[1;33m.\u001b[0m\u001b[0msend\u001b[0m\u001b[1;33m(\u001b[0m\u001b[0mrequest\u001b[0m\u001b[1;33m,\u001b[0m \u001b[1;33m**\u001b[0m\u001b[0mkwargs\u001b[0m\u001b[1;33m)\u001b[0m\u001b[1;33m\u001b[0m\u001b[1;33m\u001b[0m\u001b[0m\n\u001b[0m\u001b[0;32m    644\u001b[0m \u001b[1;33m\u001b[0m\u001b[0m\n\u001b[0;32m    645\u001b[0m         \u001b[1;31m# Total elapsed time of the request (approximately)\u001b[0m\u001b[1;33m\u001b[0m\u001b[1;33m\u001b[0m\u001b[1;33m\u001b[0m\u001b[0m\n",
      "\u001b[1;32mC:\\ProgramData\\Anaconda3\\lib\\site-packages\\requests\\adapters.py\u001b[0m in \u001b[0;36msend\u001b[1;34m(self, request, stream, timeout, verify, cert, proxies)\u001b[0m\n\u001b[0;32m    437\u001b[0m         \u001b[1;32mtry\u001b[0m\u001b[1;33m:\u001b[0m\u001b[1;33m\u001b[0m\u001b[1;33m\u001b[0m\u001b[0m\n\u001b[0;32m    438\u001b[0m             \u001b[1;32mif\u001b[0m \u001b[1;32mnot\u001b[0m \u001b[0mchunked\u001b[0m\u001b[1;33m:\u001b[0m\u001b[1;33m\u001b[0m\u001b[1;33m\u001b[0m\u001b[0m\n\u001b[1;32m--> 439\u001b[1;33m                 resp = conn.urlopen(\n\u001b[0m\u001b[0;32m    440\u001b[0m                     \u001b[0mmethod\u001b[0m\u001b[1;33m=\u001b[0m\u001b[0mrequest\u001b[0m\u001b[1;33m.\u001b[0m\u001b[0mmethod\u001b[0m\u001b[1;33m,\u001b[0m\u001b[1;33m\u001b[0m\u001b[1;33m\u001b[0m\u001b[0m\n\u001b[0;32m    441\u001b[0m                     \u001b[0murl\u001b[0m\u001b[1;33m=\u001b[0m\u001b[0murl\u001b[0m\u001b[1;33m,\u001b[0m\u001b[1;33m\u001b[0m\u001b[1;33m\u001b[0m\u001b[0m\n",
      "\u001b[1;32mC:\\ProgramData\\Anaconda3\\lib\\site-packages\\urllib3\\connectionpool.py\u001b[0m in \u001b[0;36murlopen\u001b[1;34m(self, method, url, body, headers, retries, redirect, assert_same_host, timeout, pool_timeout, release_conn, chunked, body_pos, **response_kw)\u001b[0m\n\u001b[0;32m    668\u001b[0m \u001b[1;33m\u001b[0m\u001b[0m\n\u001b[0;32m    669\u001b[0m             \u001b[1;31m# Make the request on the httplib connection object.\u001b[0m\u001b[1;33m\u001b[0m\u001b[1;33m\u001b[0m\u001b[1;33m\u001b[0m\u001b[0m\n\u001b[1;32m--> 670\u001b[1;33m             httplib_response = self._make_request(\n\u001b[0m\u001b[0;32m    671\u001b[0m                 \u001b[0mconn\u001b[0m\u001b[1;33m,\u001b[0m\u001b[1;33m\u001b[0m\u001b[1;33m\u001b[0m\u001b[0m\n\u001b[0;32m    672\u001b[0m                 \u001b[0mmethod\u001b[0m\u001b[1;33m,\u001b[0m\u001b[1;33m\u001b[0m\u001b[1;33m\u001b[0m\u001b[0m\n",
      "\u001b[1;32mC:\\ProgramData\\Anaconda3\\lib\\site-packages\\urllib3\\connectionpool.py\u001b[0m in \u001b[0;36m_make_request\u001b[1;34m(self, conn, method, url, timeout, chunked, **httplib_request_kw)\u001b[0m\n\u001b[0;32m    424\u001b[0m                     \u001b[1;31m# Python 3 (including for exceptions like SystemExit).\u001b[0m\u001b[1;33m\u001b[0m\u001b[1;33m\u001b[0m\u001b[1;33m\u001b[0m\u001b[0m\n\u001b[0;32m    425\u001b[0m                     \u001b[1;31m# Otherwise it looks like a bug in the code.\u001b[0m\u001b[1;33m\u001b[0m\u001b[1;33m\u001b[0m\u001b[1;33m\u001b[0m\u001b[0m\n\u001b[1;32m--> 426\u001b[1;33m                     \u001b[0msix\u001b[0m\u001b[1;33m.\u001b[0m\u001b[0mraise_from\u001b[0m\u001b[1;33m(\u001b[0m\u001b[0me\u001b[0m\u001b[1;33m,\u001b[0m \u001b[1;32mNone\u001b[0m\u001b[1;33m)\u001b[0m\u001b[1;33m\u001b[0m\u001b[1;33m\u001b[0m\u001b[0m\n\u001b[0m\u001b[0;32m    427\u001b[0m         \u001b[1;32mexcept\u001b[0m \u001b[1;33m(\u001b[0m\u001b[0mSocketTimeout\u001b[0m\u001b[1;33m,\u001b[0m \u001b[0mBaseSSLError\u001b[0m\u001b[1;33m,\u001b[0m \u001b[0mSocketError\u001b[0m\u001b[1;33m)\u001b[0m \u001b[1;32mas\u001b[0m \u001b[0me\u001b[0m\u001b[1;33m:\u001b[0m\u001b[1;33m\u001b[0m\u001b[1;33m\u001b[0m\u001b[0m\n\u001b[0;32m    428\u001b[0m             \u001b[0mself\u001b[0m\u001b[1;33m.\u001b[0m\u001b[0m_raise_timeout\u001b[0m\u001b[1;33m(\u001b[0m\u001b[0merr\u001b[0m\u001b[1;33m=\u001b[0m\u001b[0me\u001b[0m\u001b[1;33m,\u001b[0m \u001b[0murl\u001b[0m\u001b[1;33m=\u001b[0m\u001b[0murl\u001b[0m\u001b[1;33m,\u001b[0m \u001b[0mtimeout_value\u001b[0m\u001b[1;33m=\u001b[0m\u001b[0mread_timeout\u001b[0m\u001b[1;33m)\u001b[0m\u001b[1;33m\u001b[0m\u001b[1;33m\u001b[0m\u001b[0m\n",
      "\u001b[1;32mC:\\ProgramData\\Anaconda3\\lib\\site-packages\\urllib3\\packages\\six.py\u001b[0m in \u001b[0;36mraise_from\u001b[1;34m(value, from_value)\u001b[0m\n",
      "\u001b[1;32mC:\\ProgramData\\Anaconda3\\lib\\site-packages\\urllib3\\connectionpool.py\u001b[0m in \u001b[0;36m_make_request\u001b[1;34m(self, conn, method, url, timeout, chunked, **httplib_request_kw)\u001b[0m\n\u001b[0;32m    419\u001b[0m                 \u001b[1;31m# Python 3\u001b[0m\u001b[1;33m\u001b[0m\u001b[1;33m\u001b[0m\u001b[1;33m\u001b[0m\u001b[0m\n\u001b[0;32m    420\u001b[0m                 \u001b[1;32mtry\u001b[0m\u001b[1;33m:\u001b[0m\u001b[1;33m\u001b[0m\u001b[1;33m\u001b[0m\u001b[0m\n\u001b[1;32m--> 421\u001b[1;33m                     \u001b[0mhttplib_response\u001b[0m \u001b[1;33m=\u001b[0m \u001b[0mconn\u001b[0m\u001b[1;33m.\u001b[0m\u001b[0mgetresponse\u001b[0m\u001b[1;33m(\u001b[0m\u001b[1;33m)\u001b[0m\u001b[1;33m\u001b[0m\u001b[1;33m\u001b[0m\u001b[0m\n\u001b[0m\u001b[0;32m    422\u001b[0m                 \u001b[1;32mexcept\u001b[0m \u001b[0mBaseException\u001b[0m \u001b[1;32mas\u001b[0m \u001b[0me\u001b[0m\u001b[1;33m:\u001b[0m\u001b[1;33m\u001b[0m\u001b[1;33m\u001b[0m\u001b[0m\n\u001b[0;32m    423\u001b[0m                     \u001b[1;31m# Remove the TypeError from the exception chain in\u001b[0m\u001b[1;33m\u001b[0m\u001b[1;33m\u001b[0m\u001b[1;33m\u001b[0m\u001b[0m\n",
      "\u001b[1;32mC:\\ProgramData\\Anaconda3\\lib\\http\\client.py\u001b[0m in \u001b[0;36mgetresponse\u001b[1;34m(self)\u001b[0m\n\u001b[0;32m   1330\u001b[0m         \u001b[1;32mtry\u001b[0m\u001b[1;33m:\u001b[0m\u001b[1;33m\u001b[0m\u001b[1;33m\u001b[0m\u001b[0m\n\u001b[0;32m   1331\u001b[0m             \u001b[1;32mtry\u001b[0m\u001b[1;33m:\u001b[0m\u001b[1;33m\u001b[0m\u001b[1;33m\u001b[0m\u001b[0m\n\u001b[1;32m-> 1332\u001b[1;33m                 \u001b[0mresponse\u001b[0m\u001b[1;33m.\u001b[0m\u001b[0mbegin\u001b[0m\u001b[1;33m(\u001b[0m\u001b[1;33m)\u001b[0m\u001b[1;33m\u001b[0m\u001b[1;33m\u001b[0m\u001b[0m\n\u001b[0m\u001b[0;32m   1333\u001b[0m             \u001b[1;32mexcept\u001b[0m \u001b[0mConnectionError\u001b[0m\u001b[1;33m:\u001b[0m\u001b[1;33m\u001b[0m\u001b[1;33m\u001b[0m\u001b[0m\n\u001b[0;32m   1334\u001b[0m                 \u001b[0mself\u001b[0m\u001b[1;33m.\u001b[0m\u001b[0mclose\u001b[0m\u001b[1;33m(\u001b[0m\u001b[1;33m)\u001b[0m\u001b[1;33m\u001b[0m\u001b[1;33m\u001b[0m\u001b[0m\n",
      "\u001b[1;32mC:\\ProgramData\\Anaconda3\\lib\\http\\client.py\u001b[0m in \u001b[0;36mbegin\u001b[1;34m(self)\u001b[0m\n\u001b[0;32m    301\u001b[0m         \u001b[1;31m# read until we get a non-100 response\u001b[0m\u001b[1;33m\u001b[0m\u001b[1;33m\u001b[0m\u001b[1;33m\u001b[0m\u001b[0m\n\u001b[0;32m    302\u001b[0m         \u001b[1;32mwhile\u001b[0m \u001b[1;32mTrue\u001b[0m\u001b[1;33m:\u001b[0m\u001b[1;33m\u001b[0m\u001b[1;33m\u001b[0m\u001b[0m\n\u001b[1;32m--> 303\u001b[1;33m             \u001b[0mversion\u001b[0m\u001b[1;33m,\u001b[0m \u001b[0mstatus\u001b[0m\u001b[1;33m,\u001b[0m \u001b[0mreason\u001b[0m \u001b[1;33m=\u001b[0m \u001b[0mself\u001b[0m\u001b[1;33m.\u001b[0m\u001b[0m_read_status\u001b[0m\u001b[1;33m(\u001b[0m\u001b[1;33m)\u001b[0m\u001b[1;33m\u001b[0m\u001b[1;33m\u001b[0m\u001b[0m\n\u001b[0m\u001b[0;32m    304\u001b[0m             \u001b[1;32mif\u001b[0m \u001b[0mstatus\u001b[0m \u001b[1;33m!=\u001b[0m \u001b[0mCONTINUE\u001b[0m\u001b[1;33m:\u001b[0m\u001b[1;33m\u001b[0m\u001b[1;33m\u001b[0m\u001b[0m\n\u001b[0;32m    305\u001b[0m                 \u001b[1;32mbreak\u001b[0m\u001b[1;33m\u001b[0m\u001b[1;33m\u001b[0m\u001b[0m\n",
      "\u001b[1;32mC:\\ProgramData\\Anaconda3\\lib\\http\\client.py\u001b[0m in \u001b[0;36m_read_status\u001b[1;34m(self)\u001b[0m\n\u001b[0;32m    262\u001b[0m \u001b[1;33m\u001b[0m\u001b[0m\n\u001b[0;32m    263\u001b[0m     \u001b[1;32mdef\u001b[0m \u001b[0m_read_status\u001b[0m\u001b[1;33m(\u001b[0m\u001b[0mself\u001b[0m\u001b[1;33m)\u001b[0m\u001b[1;33m:\u001b[0m\u001b[1;33m\u001b[0m\u001b[1;33m\u001b[0m\u001b[0m\n\u001b[1;32m--> 264\u001b[1;33m         \u001b[0mline\u001b[0m \u001b[1;33m=\u001b[0m \u001b[0mstr\u001b[0m\u001b[1;33m(\u001b[0m\u001b[0mself\u001b[0m\u001b[1;33m.\u001b[0m\u001b[0mfp\u001b[0m\u001b[1;33m.\u001b[0m\u001b[0mreadline\u001b[0m\u001b[1;33m(\u001b[0m\u001b[0m_MAXLINE\u001b[0m \u001b[1;33m+\u001b[0m \u001b[1;36m1\u001b[0m\u001b[1;33m)\u001b[0m\u001b[1;33m,\u001b[0m \u001b[1;34m\"iso-8859-1\"\u001b[0m\u001b[1;33m)\u001b[0m\u001b[1;33m\u001b[0m\u001b[1;33m\u001b[0m\u001b[0m\n\u001b[0m\u001b[0;32m    265\u001b[0m         \u001b[1;32mif\u001b[0m \u001b[0mlen\u001b[0m\u001b[1;33m(\u001b[0m\u001b[0mline\u001b[0m\u001b[1;33m)\u001b[0m \u001b[1;33m>\u001b[0m \u001b[0m_MAXLINE\u001b[0m\u001b[1;33m:\u001b[0m\u001b[1;33m\u001b[0m\u001b[1;33m\u001b[0m\u001b[0m\n\u001b[0;32m    266\u001b[0m             \u001b[1;32mraise\u001b[0m \u001b[0mLineTooLong\u001b[0m\u001b[1;33m(\u001b[0m\u001b[1;34m\"status line\"\u001b[0m\u001b[1;33m)\u001b[0m\u001b[1;33m\u001b[0m\u001b[1;33m\u001b[0m\u001b[0m\n",
      "\u001b[1;32mC:\\ProgramData\\Anaconda3\\lib\\socket.py\u001b[0m in \u001b[0;36mreadinto\u001b[1;34m(self, b)\u001b[0m\n\u001b[0;32m    667\u001b[0m         \u001b[1;32mwhile\u001b[0m \u001b[1;32mTrue\u001b[0m\u001b[1;33m:\u001b[0m\u001b[1;33m\u001b[0m\u001b[1;33m\u001b[0m\u001b[0m\n\u001b[0;32m    668\u001b[0m             \u001b[1;32mtry\u001b[0m\u001b[1;33m:\u001b[0m\u001b[1;33m\u001b[0m\u001b[1;33m\u001b[0m\u001b[0m\n\u001b[1;32m--> 669\u001b[1;33m                 \u001b[1;32mreturn\u001b[0m \u001b[0mself\u001b[0m\u001b[1;33m.\u001b[0m\u001b[0m_sock\u001b[0m\u001b[1;33m.\u001b[0m\u001b[0mrecv_into\u001b[0m\u001b[1;33m(\u001b[0m\u001b[0mb\u001b[0m\u001b[1;33m)\u001b[0m\u001b[1;33m\u001b[0m\u001b[1;33m\u001b[0m\u001b[0m\n\u001b[0m\u001b[0;32m    670\u001b[0m             \u001b[1;32mexcept\u001b[0m \u001b[0mtimeout\u001b[0m\u001b[1;33m:\u001b[0m\u001b[1;33m\u001b[0m\u001b[1;33m\u001b[0m\u001b[0m\n\u001b[0;32m    671\u001b[0m                 \u001b[0mself\u001b[0m\u001b[1;33m.\u001b[0m\u001b[0m_timeout_occurred\u001b[0m \u001b[1;33m=\u001b[0m \u001b[1;32mTrue\u001b[0m\u001b[1;33m\u001b[0m\u001b[1;33m\u001b[0m\u001b[0m\n",
      "\u001b[1;32mC:\\ProgramData\\Anaconda3\\lib\\ssl.py\u001b[0m in \u001b[0;36mrecv_into\u001b[1;34m(self, buffer, nbytes, flags)\u001b[0m\n\u001b[0;32m   1239\u001b[0m                   \u001b[1;34m\"non-zero flags not allowed in calls to recv_into() on %s\"\u001b[0m \u001b[1;33m%\u001b[0m\u001b[1;33m\u001b[0m\u001b[1;33m\u001b[0m\u001b[0m\n\u001b[0;32m   1240\u001b[0m                   self.__class__)\n\u001b[1;32m-> 1241\u001b[1;33m             \u001b[1;32mreturn\u001b[0m \u001b[0mself\u001b[0m\u001b[1;33m.\u001b[0m\u001b[0mread\u001b[0m\u001b[1;33m(\u001b[0m\u001b[0mnbytes\u001b[0m\u001b[1;33m,\u001b[0m \u001b[0mbuffer\u001b[0m\u001b[1;33m)\u001b[0m\u001b[1;33m\u001b[0m\u001b[1;33m\u001b[0m\u001b[0m\n\u001b[0m\u001b[0;32m   1242\u001b[0m         \u001b[1;32melse\u001b[0m\u001b[1;33m:\u001b[0m\u001b[1;33m\u001b[0m\u001b[1;33m\u001b[0m\u001b[0m\n\u001b[0;32m   1243\u001b[0m             \u001b[1;32mreturn\u001b[0m \u001b[0msuper\u001b[0m\u001b[1;33m(\u001b[0m\u001b[1;33m)\u001b[0m\u001b[1;33m.\u001b[0m\u001b[0mrecv_into\u001b[0m\u001b[1;33m(\u001b[0m\u001b[0mbuffer\u001b[0m\u001b[1;33m,\u001b[0m \u001b[0mnbytes\u001b[0m\u001b[1;33m,\u001b[0m \u001b[0mflags\u001b[0m\u001b[1;33m)\u001b[0m\u001b[1;33m\u001b[0m\u001b[1;33m\u001b[0m\u001b[0m\n",
      "\u001b[1;32mC:\\ProgramData\\Anaconda3\\lib\\ssl.py\u001b[0m in \u001b[0;36mread\u001b[1;34m(self, len, buffer)\u001b[0m\n\u001b[0;32m   1097\u001b[0m         \u001b[1;32mtry\u001b[0m\u001b[1;33m:\u001b[0m\u001b[1;33m\u001b[0m\u001b[1;33m\u001b[0m\u001b[0m\n\u001b[0;32m   1098\u001b[0m             \u001b[1;32mif\u001b[0m \u001b[0mbuffer\u001b[0m \u001b[1;32mis\u001b[0m \u001b[1;32mnot\u001b[0m \u001b[1;32mNone\u001b[0m\u001b[1;33m:\u001b[0m\u001b[1;33m\u001b[0m\u001b[1;33m\u001b[0m\u001b[0m\n\u001b[1;32m-> 1099\u001b[1;33m                 \u001b[1;32mreturn\u001b[0m \u001b[0mself\u001b[0m\u001b[1;33m.\u001b[0m\u001b[0m_sslobj\u001b[0m\u001b[1;33m.\u001b[0m\u001b[0mread\u001b[0m\u001b[1;33m(\u001b[0m\u001b[0mlen\u001b[0m\u001b[1;33m,\u001b[0m \u001b[0mbuffer\u001b[0m\u001b[1;33m)\u001b[0m\u001b[1;33m\u001b[0m\u001b[1;33m\u001b[0m\u001b[0m\n\u001b[0m\u001b[0;32m   1100\u001b[0m             \u001b[1;32melse\u001b[0m\u001b[1;33m:\u001b[0m\u001b[1;33m\u001b[0m\u001b[1;33m\u001b[0m\u001b[0m\n\u001b[0;32m   1101\u001b[0m                 \u001b[1;32mreturn\u001b[0m \u001b[0mself\u001b[0m\u001b[1;33m.\u001b[0m\u001b[0m_sslobj\u001b[0m\u001b[1;33m.\u001b[0m\u001b[0mread\u001b[0m\u001b[1;33m(\u001b[0m\u001b[0mlen\u001b[0m\u001b[1;33m)\u001b[0m\u001b[1;33m\u001b[0m\u001b[1;33m\u001b[0m\u001b[0m\n",
      "\u001b[1;31mKeyboardInterrupt\u001b[0m: "
     ]
    }
   ],
   "source": [
    "%%time\n",
    "for i in range(1, 100):\n",
    "    curl = START_URL + '&from_archive=' + str(i*10)\n",
    "    html = get_html(curl)\n",
    "    print(i, end= ' ')"
   ]
  },
  {
   "cell_type": "code",
   "execution_count": 20,
   "metadata": {},
   "outputs": [
    {
     "data": {
      "text/plain": [
       "'<!doctype html>\\n<html lang=\"ru\">\\n<head>\\n    <meta charset=\"utf-8\">\\n    <meta name=\"viewport\" content=\"width=device-width, initial-scale=1, maximum-scale=1, viewport-fit=cover, shrink-to-fit=no\">\\n    <meta name=\"format-detection\" content=\"telephone=no\">\\n                        <title>Закупки товаров и услуг на сайте электронной торговой площадки B2B-Center</title>\\n                            <meta name=\"description\" content=\"Поиск тендеров, закупок и торгов по классификатору ОКПД2. Найдите для своей компании подходящую закупку с помощью удобной системы поиска на торговой площадке B2B-Center.\">\\n                            <meta name=\"keywords\" content=\"электронная торговая площадка, электронные торги, продажа, закупка, товары, услуги, электронная подпись, B2B, тендеры, аукционы, запросы цен, квалификационные отборы, объявления о продаже.\">\\n            \\n    <link rel=\"icon\" type=\"image/x-icon\" href=\"/images/projects/b2bmobile/favicons/favicon.ico\">\\n    <link rel=\"icon\" type=\"image/png\" href=\"/images/projects/b2bmobile/favicons/favicon.png\">\\n    <link rel=\"apple-touch-icon\" href=\"/images/projects/b2bmobile/favicons/ios.png\">\\n\\n    <meta name=\"apple-mobile-web-app-capable\" content=\"yes\">\\n    <meta name=\"apple-mobile-web-app-status-bar-style\" content=\"black\">\\n    <link rel=\"stylesheet\" href=\"/builds/css/min/projects/b2bmobile/base.css\" />\\n    <link rel=\"stylesheet\" href=\"/builds/css/min/projects/b2bmobile/components.css\" />\\n\\n            <link rel=\"canonical\" href=\"https://www.b2b-center.ru/market/?show=archive\">\\n    \\n                        \\n<script type=\"text/javascript\">\\nwindow.GlobalJsConfig={\"main_page\":false,\"firm_id\":null,\"count_published_products\":null,\"count_supplier_offers\":null,\"count_customer_offers\":null,\"wgt_herald_cookie_name\":\"wgt_herald\",\"wgt_hellobar_cookie_name\":\"wgt_hellobar\",\"lang\":\"rus\",\"user_id\":0,\"sentry_key_for_raven\":null,\"environment\":\"www\",\"release_number\":\"20201029182517\",\"gate_name\":\"center\"};\\n</script>\\n<script type=\"text/javascript\" charset=\"utf-8\" src=\"/js/lib/jquery/jquery-1.7.2/jquery-1.7.2.min.js?v=81d701b6576fdb0b7c88b632af99f3fe\"></script>\\n<script type=\"text/javascript\" charset=\"utf-8\">window.jQuery||document.write(\\'<script src=\"/js/lib/jquery/jquery-1.7.2/jquery-1.7.2.min.js?fv=\\'+Math.random()+\\'\">\\\\x3C/script>\\');</script>\\n<script type=\"text/javascript\" charset=\"utf-8\" src=\"/js/lib/plugins/EventEmitter.js?v=81d701b6576fdb0b7c88b632af99f3fe\"></script>\\n<script type=\"text/javascript\" charset=\"utf-8\" src=\"/builds/js/min/GlobalJsConfig.es6.js?v=b4aa494133abcb5181c105c665c393a9\"></script>\\n<script type=\"text/javascript\" charset=\"utf-8\" src=\"/js/lib/polyfills/svg4everybody/v2.1.9/svg4everybody.js?v=9f0746432f3256d98e83da4d76c616c9\"></script>\\n<script type=\"text/javascript\" charset=\"utf-8\" src=\"/js/lib/polyfills/mutation_observer.min.js?v=9f0746432f3256d98e83da4d76c616c9\"></script>\\n<script type=\"text/javascript\" charset=\"utf-8\" src=\"/js/lib/polyfills/promise.js?v=9f0746432f3256d98e83da4d76c616c9\"></script>\\n<script type=\"text/javascript\" charset=\"utf-8\" src=\"/js/lib/polyfills/fetch.js?v=9f0746432f3256d98e83da4d76c616c9\"></script>\\n<script type=\"text/javascript\" charset=\"utf-8\" src=\"/public/cache/hints/03330989f5e2320eb2372ad8f372c56e.hint.json?v=018510355dadc547b031d42d92831837\"></script>\\n<script type=\"text/javascript\" charset=\"utf-8\" src=\"/public/cache/hints/af2b4745bf712968088d8d18d1b5dbf6.hint.json?v=018510355dadc547b031d42d92831837\"></script>\\n\\n            </head>\\n<body class=\"rtype\">\\n            <script type=\"text/javascript\">\\n    var yaParams = {\"Member\":\"na\",\"Company\":\"na\",\"Reg\":\"na\",\"Mobile\":\"mobile\",\"Guest\":\"d31e123e-1aa3-11eb-ade3-002590f3a36c\"};\\n    var B2BYM = (function(counter) {\\n        var targets = [];\\n        var inited = false;\\n\\n        return {\\n            reachGoal: function(target) {\\n                if (!inited) {\\n                    return targets.push(target);\\n                }\\n\\n                window[counter].reachGoal(target);\\n            },\\n            init: function() {\\n                var target;\\n\\n                while(target = targets.pop()) {\\n                    window[counter].reachGoal(target);\\n                }\\n\\n                inited = true;\\n            }\\n        };\\n    })(\\'yaCounter5297557\\');\\n\\n    document.addEventListener(\\'yacounter5297557inited\\', B2BYM.init);\\n</script><script type=\"text/javascript\">\\n    var yaParams = {\"Member\":\"na\",\"Company\":\"na\",\"Reg\":\"na\",\"Mobile\":\"mobile\",\"Guest\":\"d34ca51f-1aa3-11eb-ade3-002590f3a36c\"};\\n    var B2BYM = (function(counter) {\\n        var targets = [];\\n        var inited = false;\\n\\n        return {\\n            reachGoal: function(target) {\\n                if (!inited) {\\n                    return targets.push(target);\\n                }\\n\\n                window[counter].reachGoal(target);\\n            },\\n            init: function() {\\n                var target;\\n\\n                while(target = targets.pop()) {\\n                    window[counter].reachGoal(target);\\n                }\\n\\n                inited = true;\\n            }\\n        };\\n    })(\\'yaCounter5297557\\');\\n\\n    document.addEventListener(\\'yacounter5297557inited\\', B2BYM.init);\\n</script><!-- Google Tag Manager -->\\n<noscript><iframe src=\"//www.googletagmanager.com/ns.html?id=GTM-PP2NTF\" height=\"0\" width=\"0\" style=\"display:none;visibility:hidden\"></iframe></noscript>\\n<script>\\n(function(w,d,s,l,i){w[l]=w[l]||[];w[l].push({\\'gtm.start\\': new Date().getTime(),event:\\'gtm.js\\'});\\nvar f=d.getElementsByTagName(s)[0],j=d.createElement(s),dl=l!=\\'dataLayer\\'?\\'&l=\\'+l:\\'\\';j.async=true;\\nj.charset=\\'utf-8\\';j.src=\\'//www.googletagmanager.com/gtm.js?id=\\'+i+dl;f.parentNode.insertBefore(j,f);\\n})(window,document,\\'script\\',\\'dataLayer\\',\\'GTM-PP2NTF\\');\\ndataLayer.push({\\'User\\':\\'na\\'});\\n\\n</script>\\n<!-- End Google Tag Manager -->\\n    \\n                <link rel=\"stylesheet\" href=\"/builds/css/min/projects/b2bmobile/cosmetics/market_page.css\" />\\n    <header class=\"page-header header\" data-target=\"header-nav\">\\n    <div class=\"header-main\">\\n        <div class=\"header-logo\" data-target=\"header-nav\">\\n            <a href=\"/\">\\n                <i class=\"icoL ico\" data-ico=\"b2bLogoResize-colored-l\">\\n\\t<svg xmlns=\"http://www.w3.org/2000/svg\" viewBox=\"0 -10 96 58\"><path d=\"M69.841 15.468c-.347.345-1.077.602-1.818.604-1.748-.001-2.874-1.067-2.874-2.687 0-1.42.923-2.674 2.845-2.674.75 0 1.374.238 1.731.533l-.529.909c-.316-.159-.654-.307-1.192-.307-.932 0-1.606.533-1.605 1.54 0 .908.664 1.55 1.73 1.55.424 0 .885-.118 1.259-.377l.453.909m1-4.687h3.451l-.001 1.134h-2.278v.868h2.047v1.135h-2.047l-.001.908h2.365v1.134h-3.538l.001-5.179m8.72 5.179l-2.826-3.214.001 3.214-1.106.001v-5.179h.942l2.826 3.226v-3.226h1.106v5.179l-.943-.001m1.78-5.179h4.662v1.134l-1.75-.001v4.045H83.08v-4.044h-1.74v-1.134m5.498 0h3.451v1.134h-2.278v.869l2.048-.001v1.135h-2.048l.001.907 2.364.001v1.133h-3.537v-5.178m4.788 5.18l-.001-5.18 1.711-.02c1.673 0 2.202.75 2.202 1.746 0 .968-.538 1.363-.904 1.51l1.442 1.944h-1.501l-1.143-1.647h-.634v1.647h-1.172zm1.172-4.046v1.265l.616-.001c.5 0 .875-.226.875-.661 0-.274-.192-.621-.887-.621l-.604.018z\" fill=\"#fff\" class=\"header-logo-path header-logo-path--center\"/><g class=\"header-logo-path header-logo-path--b2\"><path fill=\"#fff\" d=\"M58.649 13.638c0 4.738-3.741 8.577-8.356 8.577-4.613 0-8.355-3.839-8.355-8.577 0-4.736 3.742-8.575 8.355-8.575 4.615 0 8.356 3.839 8.356 8.575\"/><path fill=\"#000\" d=\"M47.981 9.285a59.054 59.054 0 0 1 2.458-.063c2.032 0 2.799.951 2.799 2.163 0 .998-.487 1.635-1.217 1.984v.026c.838.212 1.497.874 1.497 2.037 0 1.798-1.364 2.622-3.164 2.622-.779 0-1.875-.024-2.374-.062V9.284zm1.497 1.411v2.212h1.01c.693 0 1.265-.363 1.265-1.163 0-.711-.535-1.086-1.34-1.086-.34 0-.669.012-.936.037zm0 3.548v2.311c.206.025.559.065.985.065 1.011 0 1.559-.438 1.559-1.262 0-.738-.548-1.113-1.485-1.113h-1.059z\"/></g><g class=\"header-logo-path header-logo-path--2\"><path fill=\"#E4002B\" d=\"M38.775 13.402c0 4.736-3.742 8.575-8.355 8.575-4.615 0-8.355-3.838-8.355-8.575 0-4.736 3.741-8.576 8.355-8.576 4.614 0 8.355 3.839 8.355 8.576\"/><path fill=\"#fff\" d=\"M27.898 17.541v-1.457l3.225-3.844c.316-.385.449-.66.449-1.072 0-.657-.377-1.106-1.043-1.106-.521 0-1.055.274-1.055 1.132h-1.576c0-1.618 1.152-2.589 2.631-2.589 1.528 0 2.619.982 2.619 2.577 0 .859-.329 1.318-.922 2.028l-2.413 2.874h3.334v1.457h-5.25\"/></g><g class=\"header-logo-path header-logo-path--b1\"><path fill=\"#fff\" d=\"M18.902 14.165c0 4.737-3.741 8.576-8.355 8.576-4.614 0-8.354-3.839-8.354-8.576 0-4.736 3.74-8.576 8.354-8.576 4.615 0 8.355 3.84 8.355 8.576\"/><path fill=\"#000\" d=\"M8.234 9.812a57.154 57.154 0 0 1 2.459-.064c2.032 0 2.799.95 2.799 2.163 0 .999-.487 1.637-1.216 1.986v.026c.839.21 1.496.874 1.496 2.035 0 1.8-1.363 2.622-3.164 2.622-.78 0-1.875-.024-2.374-.062V9.813zm1.497 1.411v2.211h1.01c.693 0 1.265-.363 1.265-1.163 0-.711-.535-1.084-1.338-1.084-.341 0-.67.01-.938.036zm0 3.547v2.311c.207.026.56.065.986.065 1.011 0 1.559-.438 1.559-1.263 0-.738-.548-1.112-1.485-1.112H9.732z\"/></g></svg>\\n    </i>\\n            </a>\\n        </div>\\n\\n        <div class=\"header-menu\">\\n                        <div class=\"header-menu-item\">\\n\\t\\t\\t\\t\\t<span class=\"afake\" data-trigger=\"search\">\\n\\t\\t\\t\\t\\t\\t<i class=\"icoS ico\" data-ico=\"hSearch-m-s\">\\n\\t<svg viewbox=\"0 0 20 20\" xmlns=\"http://www.w3.org/2000/svg\"><g id=\"hSearch-m-s\" fill-rule=\"evenodd\"><path d=\"M8.45 13.979a5.529 5.529 0 1 0 0-11.058 5.529 5.529 0 0 0 0 11.058zm4.875-1.305L18 17.348l-.652.652-4.674-4.675a6.45 6.45 0 1 1 .652-.652z\" id=\"Combined-Shape\"/></g></svg>\\n    </i>\\n\\t\\t\\t\\t\\t</span>\\n            </div>\\n                        <div class=\"header-menu-item\">\\n\\t\\t\\t\\t\\t<span class=\"afake\" data-trigger=\"header-nav\">\\n\\t\\t\\t\\t\\t\\t<i class=\"icoS ico\" data-ico=\"menu-v2-s\">\\n\\t<svg class=\"ico-svg\" viewbox=\"0 0 24 24\" xmlns=\"http://www.w3.org/2000/svg\"><path d=\"M3 6v2h18V6z\" class=\"header-menu-path header-menu-path--top\"/><path d=\"M3 13h18v-2H3z\" class=\"header-menu-path header-menu-path--middle\"/><path d=\"M3 18h18v-2H3z\" class=\"header-menu-path header-menu-path--bottom\"/></svg>\\n    </i>\\n\\t\\t\\t\\t\\t</span>\\n            </div>\\n        </div>\\n    </div>\\n\\n    <nav class=\"header-nav\" data-target=\"header-nav\">\\n        <ul class=\"unstyled\">\\n                                                                <li class=\"header-nav-item\">\\n                    <a href=\"/login\"><i class=\"icoS ico\" data-ico=\"user-s\">\\n\\t<svg xmlns=\"http://www.w3.org/2000/svg\" id=\"user\" viewbox=\"0 0 21 21\"><path d=\"M17.5 16c0-.946-1.426-1.471-2.146-1.756-.435-.18-.885-.36-1.32-.555-.585-.27-1.186-.586-1.62-1.08-.15-.18-.24-.3-.24-.54 0-.346.09-.691.164-1.021.12-.51.375-.93.585-1.41.24-.601.33-1.231.45-1.846.046-.27.12-.526.12-.796 0-1.86-.975-3.496-3-3.496-2.026 0-3.002 1.636-3.002 3.496 0 .27.09.525.135.796.136.615.21 1.245.466 1.845.21.48.48.9.585 1.41.09.33.165.676.165 1.021 0 .24-.09.36-.24.54-.435.495-1.036.81-1.62 1.08-.436.21-.886.376-1.321.556-.72.3-2.161.81-2.161 1.755V17.5h14z\"/></svg>\\n    </i>Войти</a>\\n                </li>\\n                <li class=\"header-nav-item\">\\n                    <a href=\"/request/application.html\"><i class=\"icoS ico\" data-ico=\"register-s\">\\n\\t<svg xmlns=\"http://www.w3.org/2000/svg\" viewbox=\"0 0 24 24\"><g id=\"registration\" fill-rule=\"evenodd\"><path id=\"registration\" d=\"M20 18.951c.552 0 1 .459 1 1.025C21 20.54 20.552 21 20 21H4c-.552 0-1-.459-1-1.024 0-.566.448-1.025 1-1.025h16zM14.182 5.323l2.121 2.173a.52.52 0 0 1 0 .725L8.28 16.44a.496.496 0 0 1-.255.14l-2.651.546a.5.5 0 0 1-.589-.401.524.524 0 0 1 0-.202l.53-2.719a.52.52 0 0 1 .137-.262l8.023-8.219c.195-.2.512-.2.707 0zm2.121-2.173l2.122 2.173c.195.2.195.524 0 .724l-.707.725c-.196.2-.512.2-.708 0l-2.12-2.173a.521.521 0 0 1 0-.725l.706-.724c.195-.2.512-.2.707 0z\"/></g></svg>\\n    </i>Зарегистрироваться</a>\\n                </li>\\n                        <li class=\"header-nav-item\">\\n                <a href=\"/market/?show=archive&go_mobile=0\" class=\"full_version\"><i class=\"icoS ico\" data-ico=\"monitor-s\">\\n\\t<svg class=\"ico-svg\" viewbox=\"0 0 24 24\" xmlns=\"http://www.w3.org/2000/svg\"><path d=\"M4 5h2v10H4zM3 17h1v3H3zm2 0h1v3H5zm2 0h1v3H7zm2 0h6v3H9zm7 0h1v3h-1zm2 0h1v3h-1zm2 0h1v3h-1zM18 5h2v10h-2z\"/><path d=\"M19 5v2H5V5zm3 13v2H2v-2z\"/></svg>\\n    </i>Полная версия сайта</a>\\n            </li>\\n        </ul>\\n    </nav>\\n</header>\\n    <main class=\"page-main\">\\n        <form action=\"/market/\" method=\"get\">\\n    <div class=\"search as-active\" data-target=\"search\">\\n        <div class=\"searchBar\">\\n            <div class=\"searchBar-field\">\\n\\t\\t\\t\\t<div class=\"form-grp\"><label class=\"label-ctrl-hid\">Введите поисковый запрос</label><div class=\"form-field\"><input class=\"form-ctrl\" type=\"text\" placeholder=\"Искать по торговой площадке\" name=\"f_keyword\" id=\"control_5f9bfa312e557\" data-error-message-position=\"right\" value=\"\"></div></div>\\n            </div>\\n            <div class=\"searchBar-ctrl\">\\n                <button class=\"btn btn-primary btn-ico\">\\n\\t\\t\\t\\t\\t<i class=\"icoS ico\" data-ico=\"search-s\">\\n\\t<svg viewbox=\"0 0 20 20\" xmlns=\"http://www.w3.org/2000/svg\"><g id=\"&#x418;&#x43A;&#x43E;&#x43D;&#x43A;&#x438;/20/search-s\" fill-rule=\"evenodd\"><path d=\"M8.45 13.979a5.529 5.529 0 1 0 0-11.058 5.529 5.529 0 0 0 0 11.058zm4.875-1.305L18 17.348l-.652.652-4.674-4.675a6.45 6.45 0 1 1 .652-.652z\" id=\"Combined-Shape\"/></g></svg>\\n    </i>\\n                </button>\\n            </div>\\n        </div>\\n    </div>\\n</form>\\n                        <div class=\"nav-pills--full_width s2 m0 nav-pills tabs-switcher\">\\n\\t<ul class=\"unstyled\">\\n\\t\\t\\t\\t\\t\\t\\t\\t<li class=\"afake  txt-center\" data-switcher-id=\"1\" data-tab=\"actual\"><span>Актуально <span class=\"body-style txt-muted\">7&nbsp;594</span></span></li>\\n\\t\\t\\t\\t\\t\\t\\t\\t<li class=\"afake active txt-center\" data-switcher-id=\"1\" data-tab=\"archive\"><span>В архиве <span class=\"body-style txt-muted\">1&nbsp;514&nbsp;079</span></span></li>\\n\\t\\t\\t</ul>\\n</div>\\n        \\t<div class=\"tabs-content\" data-switcher-id=\"1\" data-tab=\"actual\">\\n\\t\\t    <section class=\"auction\" data-url=\"/market/20e14-uborka-vyvoz-snega-chistka-krovli-krysh-v-g-orenburg/tender-2494123/\">\\n        <div class=\"row\">\\n            <div class=\"col\">\\n                <h2 class=\"h5 auction-title afake trade-link\">\\n                    Запрос предложений&nbsp№&nbsp2494123\\n                </h2>\\n            </div>\\n                    </div>\\n        <p class=\"auction-desc txt-ellipsis-multiple trade-link\" data-txt-ellipsis-id=\"txt\"\\n           data-wrap=\"children\"\\n           data-txt-ellipsis-ctrl=\"true\" data-txt-ellipsis-ctrl-toggle=\"false\">\\n            20E14 Уборка, вывоз снега, чистка кровли крыш в г. Оренбург\\nВ зимний период подразделениям организации для уборки/вывоза снега необходимы услуги: автопогрузчика, самосвала, автогрейдера(для чистки наледи)\\n        </p>\\n        <h3 class=\"txt-muted auction-subtitle body-style trade-link\">Организатор</h3>\\n        <div class=\"auction-org trade-link\">ООО &quot;СТРОЙ СИТИ ТРЕЙД&quot;</div>\\n        <div class=\"row\">\\n            <div class=\"col trade-link\">\\n                <h3 class=\"txt-muted auction-subtitle body-style\">Актуально</h3>\\n                                    <time class=\"strong\">26.11.2020 07:00</time>\\n                            </div>\\n            <div class=\"col trade-link\">\\n                <h3 class=\"txt-muted auction-subtitle body-style\">Опубликовано</h3>\\n                <time>30.10.2020 14:32</time>\\n            </div>\\n        </div>\\n    </section>\\n    <section class=\"auction\" data-url=\"/market/ibp-eltena-en-rtm-10000-31-akkumuliator-gpl-12-100/tender-2494120/\">\\n        <div class=\"row\">\\n            <div class=\"col\">\\n                <h2 class=\"h5 auction-title afake trade-link\">\\n                    Запрос предложений&nbsp№&nbsp2494120\\n                </h2>\\n            </div>\\n                    </div>\\n        <p class=\"auction-desc txt-ellipsis-multiple trade-link\" data-txt-ellipsis-id=\"txt\"\\n           data-wrap=\"children\"\\n           data-txt-ellipsis-ctrl=\"true\" data-txt-ellipsis-ctrl-toggle=\"false\">\\n            ИБП ELTENA EN-RTM-10000-31\\nАккумулятор GPL 12-100\\n1.Источник бесперебойного питания  ИБП ELTENA EN-RTM-10000-31\\nАккумулятор VENTURA GPL 12-100\\n        </p>\\n        <h3 class=\"txt-muted auction-subtitle body-style trade-link\">Организатор</h3>\\n        <div class=\"auction-org trade-link\">ООО &quot;Завод &quot;Нефтегазоборудование&quot;</div>\\n        <div class=\"row\">\\n            <div class=\"col trade-link\">\\n                <h3 class=\"txt-muted auction-subtitle body-style\">Актуально</h3>\\n                                    <time class=\"strong\">06.11.2020 12:00</time>\\n                            </div>\\n            <div class=\"col trade-link\">\\n                <h3 class=\"txt-muted auction-subtitle body-style\">Опубликовано</h3>\\n                <time>30.10.2020 14:32</time>\\n            </div>\\n        </div>\\n    </section>\\n    <section class=\"auction\" data-url=\"/market/klemma-wago-222-413/tender-2494117/\">\\n        <div class=\"row\">\\n            <div class=\"col\">\\n                <h2 class=\"h5 auction-title afake trade-link\">\\n                    Закрытый запрос предложений&nbsp№&nbsp2494117\\n                </h2>\\n            </div>\\n                    </div>\\n        <p class=\"auction-desc txt-ellipsis-multiple trade-link\" data-txt-ellipsis-id=\"txt\"\\n           data-wrap=\"children\"\\n           data-txt-ellipsis-ctrl=\"true\" data-txt-ellipsis-ctrl-toggle=\"false\">\\n            Клемма Wago 222-413\\nНаличие электронной подписи (ЭП) необязательно. По вопросам регистрации и работы на B2B-Center просим обращаться по номеру телефона +7 (495) 989-85-19 доб.7610, 7620.\\n        </p>\\n        <h3 class=\"txt-muted auction-subtitle body-style trade-link\">Организатор</h3>\\n        <div class=\"auction-org trade-link\">АО &quot;СЗ &quot;ДСК&quot;</div>\\n        <div class=\"row\">\\n            <div class=\"col trade-link\">\\n                <h3 class=\"txt-muted auction-subtitle body-style\">Актуально</h3>\\n                                    <time class=\"strong\">03.11.2020 11:00</time>\\n                            </div>\\n            <div class=\"col trade-link\">\\n                <h3 class=\"txt-muted auction-subtitle body-style\">Опубликовано</h3>\\n                <time>30.10.2020 14:31</time>\\n            </div>\\n        </div>\\n    </section>\\n    <section class=\"auction\" data-url=\"/market/okazanie-telematicheskikh-uslug-sviazi-dlia-nuzhd-otdelnoi-komandy-206/tender-2494118/\">\\n        <div class=\"row\">\\n            <div class=\"col\">\\n                <h2 class=\"h5 auction-title afake trade-link\">\\n                    Мониторинг рынка цен&nbsp№&nbsp2494118\\n                </h2>\\n            </div>\\n                    </div>\\n        <p class=\"auction-desc txt-ellipsis-multiple trade-link\" data-txt-ellipsis-id=\"txt\"\\n           data-wrap=\"children\"\\n           data-txt-ellipsis-ctrl=\"true\" data-txt-ellipsis-ctrl-toggle=\"false\">\\n            Оказание телематических услуг связи для нужд отдельной команды № 206 МУВО № 2                                АО «Атом-охрана»\\n        </p>\\n        <h3 class=\"txt-muted auction-subtitle body-style trade-link\">Организатор</h3>\\n        <div class=\"auction-org trade-link\">АО &quot;Атом-охрана&quot;</div>\\n        <div class=\"row\">\\n            <div class=\"col trade-link\">\\n                <h3 class=\"txt-muted auction-subtitle body-style\">Актуально</h3>\\n                                    <time class=\"strong\">09.11.2020 23:59</time>\\n                            </div>\\n            <div class=\"col trade-link\">\\n                <h3 class=\"txt-muted auction-subtitle body-style\">Опубликовано</h3>\\n                <time>30.10.2020 14:30</time>\\n            </div>\\n        </div>\\n    </section>\\n    <section class=\"auction\" data-url=\"/market/okazanie-uslug-po-deratizatsii-dezinsektsii-i-dezinfektsii-pomeshchenii/tender-2494116/\">\\n        <div class=\"row\">\\n            <div class=\"col\">\\n                <h2 class=\"h5 auction-title afake trade-link\">\\n                    Мониторинг рынка цен&nbsp№&nbsp2494116\\n                </h2>\\n            </div>\\n                    </div>\\n        <p class=\"auction-desc txt-ellipsis-multiple trade-link\" data-txt-ellipsis-id=\"txt\"\\n           data-wrap=\"children\"\\n           data-txt-ellipsis-ctrl=\"true\" data-txt-ellipsis-ctrl-toggle=\"false\">\\n            Оказание услуг по дератизации, дезинсекции и   дезинфекции помещений\\n        </p>\\n        <h3 class=\"txt-muted auction-subtitle body-style trade-link\">Организатор</h3>\\n        <div class=\"auction-org trade-link\">ФГУП «РАДОН»</div>\\n        <div class=\"row\">\\n            <div class=\"col trade-link\">\\n                <h3 class=\"txt-muted auction-subtitle body-style\">Актуально</h3>\\n                                    <time class=\"strong\">11.11.2020 23:59</time>\\n                            </div>\\n            <div class=\"col trade-link\">\\n                <h3 class=\"txt-muted auction-subtitle body-style\">Опубликовано</h3>\\n                <time>30.10.2020 14:29</time>\\n            </div>\\n        </div>\\n    </section>\\n    <section class=\"auction\" data-url=\"/market/postavka-khleba-khlebobulochnykh-izdelii-dlia-dots-gornoe-ekho-po-kes-ooo/tender-2494113/\">\\n        <div class=\"row\">\\n            <div class=\"col\">\\n                <h2 class=\"h5 auction-title afake trade-link\">\\n                    Запрос цен&nbsp№&nbsp2494113\\n                </h2>\\n            </div>\\n                    </div>\\n        <p class=\"auction-desc txt-ellipsis-multiple trade-link\" data-txt-ellipsis-id=\"txt\"\\n           data-wrap=\"children\"\\n           data-txt-ellipsis-ctrl=\"true\" data-txt-ellipsis-ctrl-toggle=\"false\">\\n            Поставка хлеба, хлебобулочных изделий для ДОЦ «Горное эхо» ПО КЭС ООО «Башкирэнерго» №21-000831\\n        </p>\\n        <h3 class=\"txt-muted auction-subtitle body-style trade-link\">Организатор</h3>\\n        <div class=\"auction-org trade-link\">АО &quot;БЭСК&quot;</div>\\n        <div class=\"row\">\\n            <div class=\"col trade-link\">\\n                <h3 class=\"txt-muted auction-subtitle body-style\">Актуально</h3>\\n                                    <time class=\"strong\">12.11.2020 10:00</time>\\n                            </div>\\n            <div class=\"col trade-link\">\\n                <h3 class=\"txt-muted auction-subtitle body-style\">Опубликовано</h3>\\n                <time>30.10.2020 14:28</time>\\n            </div>\\n        </div>\\n    </section>\\n    <section class=\"auction\" data-url=\"/market/19e14-zakup-svetilnikov-svetodiodnykh-na-vitriny/tender-2494115/\">\\n        <div class=\"row\">\\n            <div class=\"col\">\\n                <h2 class=\"h5 auction-title afake trade-link\">\\n                    Запрос предложений&nbsp№&nbsp2494115\\n                </h2>\\n            </div>\\n                    </div>\\n        <p class=\"auction-desc txt-ellipsis-multiple trade-link\" data-txt-ellipsis-id=\"txt\"\\n           data-wrap=\"children\"\\n           data-txt-ellipsis-ctrl=\"true\" data-txt-ellipsis-ctrl-toggle=\"false\">\\n            19E14 Закуп светильников светодиодных на витрины\\nЕжемесячно приобретаем на нужды магазинов светильники светодиодные\\n        </p>\\n        <h3 class=\"txt-muted auction-subtitle body-style trade-link\">Организатор</h3>\\n        <div class=\"auction-org trade-link\">ООО &quot;СТРОЙ СИТИ ТРЕЙД&quot;</div>\\n        <div class=\"row\">\\n            <div class=\"col trade-link\">\\n                <h3 class=\"txt-muted auction-subtitle body-style\">Актуально</h3>\\n                                    <time class=\"strong\">26.11.2020 07:00</time>\\n                            </div>\\n            <div class=\"col trade-link\">\\n                <h3 class=\"txt-muted auction-subtitle body-style\">Опубликовано</h3>\\n                <time>30.10.2020 14:28</time>\\n            </div>\\n        </div>\\n    </section>\\n    <section class=\"auction\" data-url=\"/market/reguliator-perepada-davleniia-vfg2-d-65-reguliruiushchii-blok/tender-2494104/\">\\n        <div class=\"row\">\\n            <div class=\"col\">\\n                <h2 class=\"h5 auction-title afake trade-link\">\\n                    Запрос предложений&nbsp№&nbsp2494104\\n                </h2>\\n            </div>\\n                    </div>\\n        <p class=\"auction-desc txt-ellipsis-multiple trade-link\" data-txt-ellipsis-id=\"txt\"\\n           data-wrap=\"children\"\\n           data-txt-ellipsis-ctrl=\"true\" data-txt-ellipsis-ctrl-toggle=\"false\">\\n            регулятор перепада давления VFG2 д=65, регулирующий блок\\nрегулятор перепада давления VFG2 д=65, регулирующий блок\\n        </p>\\n        <h3 class=\"txt-muted auction-subtitle body-style trade-link\">Организатор</h3>\\n        <div class=\"auction-org trade-link\">АО &quot;СЗ &quot;ДСК&quot;</div>\\n        <div class=\"row\">\\n            <div class=\"col trade-link\">\\n                <h3 class=\"txt-muted auction-subtitle body-style\">Актуально</h3>\\n                                    <time class=\"strong\">02.11.2020 10:00</time>\\n                            </div>\\n            <div class=\"col trade-link\">\\n                <h3 class=\"txt-muted auction-subtitle body-style\">Опубликовано</h3>\\n                <time>30.10.2020 14:27</time>\\n            </div>\\n        </div>\\n    </section>\\n    <section class=\"auction\" data-url=\"/market/okazanie-uslug-po-razrabotke-i-soglasovaniiu-plana-meropriiatii-po/tender-2494110/\">\\n        <div class=\"row\">\\n            <div class=\"col\">\\n                <h2 class=\"h5 auction-title afake trade-link\">\\n                    Мониторинг рынка цен&nbsp№&nbsp2494110\\n                </h2>\\n            </div>\\n                    </div>\\n        <p class=\"auction-desc txt-ellipsis-multiple trade-link\" data-txt-ellipsis-id=\"txt\"\\n           data-wrap=\"children\"\\n           data-txt-ellipsis-ctrl=\"true\" data-txt-ellipsis-ctrl-toggle=\"false\">\\n            Оказание услуг по разработке и согласованию плана мероприятий по уменьшению выбросов вредных (загрязняющих) веществ в атмосферный воздух в периоды неблагоприятных метеорологических условий (НМУ) на территории площадки московского филиала ФГУП «РАДОН» (г. Москва, Каширское шоссе, дом 33)\\n        </p>\\n        <h3 class=\"txt-muted auction-subtitle body-style trade-link\">Организатор</h3>\\n        <div class=\"auction-org trade-link\">ФГУП «РАДОН»</div>\\n        <div class=\"row\">\\n            <div class=\"col trade-link\">\\n                <h3 class=\"txt-muted auction-subtitle body-style\">Актуально</h3>\\n                                    <time class=\"strong\">11.11.2020 23:59</time>\\n                            </div>\\n            <div class=\"col trade-link\">\\n                <h3 class=\"txt-muted auction-subtitle body-style\">Опубликовано</h3>\\n                <time>30.10.2020 14:24</time>\\n            </div>\\n        </div>\\n    </section>\\n    <section class=\"auction\" data-url=\"/market/okazanie-informatsionnykh-uslug-s-ispolzovaniem-sistemy-konsultantplius/tender-2494111/\">\\n        <div class=\"row\">\\n            <div class=\"col\">\\n                <h2 class=\"h5 auction-title afake trade-link\">\\n                    Мониторинг рынка цен&nbsp№&nbsp2494111\\n                </h2>\\n            </div>\\n                    </div>\\n        <p class=\"auction-desc txt-ellipsis-multiple trade-link\" data-txt-ellipsis-id=\"txt\"\\n           data-wrap=\"children\"\\n           data-txt-ellipsis-ctrl=\"true\" data-txt-ellipsis-ctrl-toggle=\"false\">\\n            Оказание информационных услуг с использованием Системы КонсультантПлюс\\n        </p>\\n        <h3 class=\"txt-muted auction-subtitle body-style trade-link\">Организатор</h3>\\n        <div class=\"auction-org trade-link\">АО &quot;СНИИП&quot;</div>\\n        <div class=\"row\">\\n            <div class=\"col trade-link\">\\n                <h3 class=\"txt-muted auction-subtitle body-style\">Актуально</h3>\\n                                    <time class=\"strong\">05.11.2020 23:59</time>\\n                            </div>\\n            <div class=\"col trade-link\">\\n                <h3 class=\"txt-muted auction-subtitle body-style\">Опубликовано</h3>\\n                <time>30.10.2020 14:24</time>\\n            </div>\\n        </div>\\n    </section>\\n<script>\\n\\t$(function () {\\n\\t\\t$(\\'.trade-link\\').on(\\'click\\', function () {\\n\\t\\t\\twindow.location.href = $(this).closest(\\'.auction\\').data(\\'url\\');\\n\\t\\t});\\n\\t});\\n</script>\\n<div class=\"pagi pagi--mobile\">\\n\\t\\t\\t<div class=\"pagi-ctrl pagi-ctrl-hid\"><a href=\"#\"><i class=\"icoS ico\" data-ico=\"arrowLeft-s\"><svg viewbox=\"0 0 20 20\" xmlns=\"http://www.w3.org/2000/svg\"><g id=\"&#x418;&#x43A;&#x43E;&#x43D;&#x43A;&#x438;/20/arrowLeft-s\" fill-rule=\"evenodd\"><path d=\"M12.707 10.414l-5 5L7 14.707l5-5-5-5L7.707 4l5.707 5.707-.707.707z\" id=\"Combined-Shape\" transform=\"matrix(-1 0 0 1 20.414 0)\"/></g></svg></i></a></div>\\n\\t\\t\\t<ul class=\"pagi-list\">\\n\\t\\t\\t\\t\\t\\t\\t\\t\\t<li class=\"pagi-item pagi-item-current\">1</li>\\n\\t\\t\\t\\t\\t\\t\\t\\t\\t\\t\\t\\t<li class=\"pagi-item\">\\n\\t\\t\\t\\t\\t<a title=\"21 - 40\" href=\"/market/?show=actual&from_actual=20\">2</a>\\n\\t\\t\\t\\t</li>\\n\\t\\t\\t\\t\\t\\t\\t\\t\\t\\t\\t\\t<li class=\"pagi-item\">\\n\\t\\t\\t\\t\\t<a title=\"41 - 60\" href=\"/market/?show=actual&from_actual=40\">3</a>\\n\\t\\t\\t\\t</li>\\n\\t\\t\\t\\t\\t\\t\\t\\t\\t\\t\\t\\t<li class=\"pagi-item\">\\n\\t\\t\\t\\t\\t<a title=\"61 - 80\" href=\"/market/?show=actual&from_actual=60\">4</a>\\n\\t\\t\\t\\t</li>\\n\\t\\t\\t\\t\\t\\t\\t\\t\\t\\t\\t\\t<li class=\"pagi-item\">\\n\\t\\t\\t\\t\\t<a title=\"81 - 100\" href=\"/market/?show=actual&from_actual=80\">5</a>\\n\\t\\t\\t\\t</li>\\n\\t\\t\\t\\t\\t\\t\\t\\t\\t\\t\\t\\t<li class=\"pagi-item\">\\n\\t\\t\\t\\t\\t<a title=\"101 - 120\" href=\"/market/?show=actual&from_actual=100\">6</a>\\n\\t\\t\\t\\t</li>\\n\\t\\t\\t\\t\\t\\t\\t\\t\\t\\t\\t\\t<li class=\"pagi-item\">\\n\\t\\t\\t\\t\\t<a title=\"121 - 140\" href=\"/market/?show=actual&from_actual=120\">7</a>\\n\\t\\t\\t\\t</li>\\n\\t\\t\\t\\t\\t\\t\\t\\t\\t\\t\\t\\t<li class=\"pagi-item\">...</li>\\n\\t\\t\\t\\t\\t\\t\\t\\t\\t\\t\\t\\t<li class=\"pagi-item\">\\n\\t\\t\\t\\t\\t<a title=\"7581 - 7594\" href=\"/market/?show=actual&from_actual=7580\">380</a>\\n\\t\\t\\t\\t</li>\\n\\t\\t\\t\\t\\t\\t</ul>\\n\\t\\t\\t<div class=\"pagi-ctrl\"><a href=\"/market/?show=actual&from_actual=20\"><i class=\"icoS ico\" data-ico=\"arrowRight-s\"><svg viewbox=\"0 0 20 20\" xmlns=\"http://www.w3.org/2000/svg\"><g id=\"&#x418;&#x43A;&#x43E;&#x43D;&#x43A;&#x438;/20/arrowRight-s\" fill-rule=\"evenodd\"><path d=\"M12.707 10.414l-5 5L7 14.707l5-5-5-5L7.707 4l5.707 5.707-.707.707z\" id=\"Combined-Shape\"/></g></svg></i></a></div>\\n\\t</div>\\n\\t</div>\\n\\t<div class=\"tabs-content active\" data-switcher-id=\"1\" data-tab=\"archive\">\\n\\t\\t    <section class=\"auction\" data-url=\"/market/zapros-stavki-na/tender-2493998/\">\\n        <div class=\"row\">\\n            <div class=\"col\">\\n                <h2 class=\"h5 auction-title afake trade-link\">\\n                    Закрытый запрос предложений&nbsp№&nbsp2493998\\n                </h2>\\n            </div>\\n                    </div>\\n        <p class=\"auction-desc txt-ellipsis-multiple trade-link\" data-txt-ellipsis-id=\"txt\"\\n           data-wrap=\"children\"\\n           data-txt-ellipsis-ctrl=\"true\" data-txt-ellipsis-ctrl-toggle=\"false\">\\n            Запрос ставки на согласование!\\nMA-24697-1_02-11-2020_РейлТех_Кольчугино_Воронеж\\nДата погрузки: 02.11.2020\\nСМ Комментарии\\n        </p>\\n        <h3 class=\"txt-muted auction-subtitle body-style trade-link\">Организатор</h3>\\n        <div class=\"auction-org trade-link\">ООО &quot;Жефко&quot;</div>\\n        <div class=\"row\">\\n            <div class=\"col trade-link\">\\n                <h3 class=\"txt-muted auction-subtitle body-style\">Актуально</h3>\\n                                    <time class=\"strong\">30.10.2020 14:30</time>\\n                            </div>\\n            <div class=\"col trade-link\">\\n                <h3 class=\"txt-muted auction-subtitle body-style\">Опубликовано</h3>\\n                <time>30.10.2020 13:16</time>\\n            </div>\\n        </div>\\n    </section>\\n    <section class=\"auction\" data-url=\"/market/okazanie-uslug-po-diagnostike-i-remontu-takhografov/tender-2493985/\">\\n        <div class=\"row\">\\n            <div class=\"col\">\\n                <h2 class=\"h5 auction-title afake trade-link\">\\n                    Мониторинг рынка цен&nbsp№&nbsp2493985\\n                </h2>\\n            </div>\\n                    </div>\\n        <p class=\"auction-desc txt-ellipsis-multiple trade-link\" data-txt-ellipsis-id=\"txt\"\\n           data-wrap=\"children\"\\n           data-txt-ellipsis-ctrl=\"true\" data-txt-ellipsis-ctrl-toggle=\"false\">\\n            Оказание услуг по диагностике и ремонту тахографов\\n        </p>\\n        <h3 class=\"txt-muted auction-subtitle body-style trade-link\">Организатор</h3>\\n        <div class=\"auction-org trade-link\">ФГУП &quot;РФЯЦ-ВНИИЭФ&quot;</div>\\n        <div class=\"row\">\\n            <div class=\"col trade-link\">\\n                <h3 class=\"txt-muted auction-subtitle body-style\">Актуально</h3>\\n                                    <time class=\"strong\">30.10.2020 13:53</time>\\n                            </div>\\n            <div class=\"col trade-link\">\\n                <h3 class=\"txt-muted auction-subtitle body-style\">Опубликовано</h3>\\n                <time>30.10.2020 13:11</time>\\n            </div>\\n        </div>\\n    </section>\\n    <section class=\"auction\" data-url=\"/market/aliuminii-av-87-granulirovannyi-5tn-postavka-2-dekada-noiabria/tender-2493977/\">\\n        <div class=\"row\">\\n            <div class=\"col\">\\n                <h2 class=\"h5 auction-title afake trade-link\">\\n                    Запрос предложений&nbsp№&nbsp2493977\\n                </h2>\\n            </div>\\n                    </div>\\n        <p class=\"auction-desc txt-ellipsis-multiple trade-link\" data-txt-ellipsis-id=\"txt\"\\n           data-wrap=\"children\"\\n           data-txt-ellipsis-ctrl=\"true\" data-txt-ellipsis-ctrl-toggle=\"false\">\\n            Алюминий АВ-87 (гранулированный)  - 5тн. Поставка - 2 декада ноября 2020г\\nГОСТ 295-98\\nМарка АВ-87 (гранулы)\\n        </p>\\n        <h3 class=\"txt-muted auction-subtitle body-style trade-link\">Организатор</h3>\\n        <div class=\"auction-org trade-link\">ПАО &quot;Ашинский метзавод&quot; </div>\\n        <div class=\"row\">\\n            <div class=\"col trade-link\">\\n                <h3 class=\"txt-muted auction-subtitle body-style\">Актуально</h3>\\n                                    <time class=\"strong\">30.10.2020 13:27</time>\\n                            </div>\\n            <div class=\"col trade-link\">\\n                <h3 class=\"txt-muted auction-subtitle body-style\">Опубликовано</h3>\\n                <time>30.10.2020 13:09</time>\\n            </div>\\n        </div>\\n    </section>\\n    <section class=\"auction\" data-url=\"/market/zapros-stavki-na-soglasovanie-ki-24710-1-02-11-2020-gms-mosk-dms/tender-2493948/\">\\n        <div class=\"row\">\\n            <div class=\"col\">\\n                <h2 class=\"h5 auction-title afake trade-link\">\\n                    Закрытый запрос предложений&nbsp№&nbsp2493948\\n                </h2>\\n            </div>\\n                    </div>\\n        <p class=\"auction-desc txt-ellipsis-multiple trade-link\" data-txt-ellipsis-id=\"txt\"\\n           data-wrap=\"children\"\\n           data-txt-ellipsis-ctrl=\"true\" data-txt-ellipsis-ctrl-toggle=\"false\">\\n            Запрос ставки на согласование!\\nKI-24710-1_02-11-2020 ГМС МОСК ДМС - ГМС СПБ ДМС маски\\nДата погрузки: 02.11.2020\\nСМ Комментарии\\n        </p>\\n        <h3 class=\"txt-muted auction-subtitle body-style trade-link\">Организатор</h3>\\n        <div class=\"auction-org trade-link\">ООО &quot;Жефко&quot;</div>\\n        <div class=\"row\">\\n            <div class=\"col trade-link\">\\n                <h3 class=\"txt-muted auction-subtitle body-style\">Актуально</h3>\\n                                    <time class=\"strong\">30.10.2020 14:19</time>\\n                            </div>\\n            <div class=\"col trade-link\">\\n                <h3 class=\"txt-muted auction-subtitle body-style\">Опубликовано</h3>\\n                <time>30.10.2020 12:50</time>\\n            </div>\\n        </div>\\n    </section>\\n    <section class=\"auction\" data-url=\"/market/tender/tender-2493928/\">\\n        <div class=\"row\">\\n            <div class=\"col\">\\n                <h2 class=\"h5 auction-title afake trade-link\">\\n                    Закрытый запрос предложений&nbsp№&nbsp2493928\\n                </h2>\\n            </div>\\n                    </div>\\n        <p class=\"auction-desc txt-ellipsis-multiple trade-link\" data-txt-ellipsis-id=\"txt\"\\n           data-wrap=\"children\"\\n           data-txt-ellipsis-ctrl=\"true\" data-txt-ellipsis-ctrl-toggle=\"false\">\\n            тендер\\nМО, Кубинка- Архангельск\\nРефрижератор, 20 000кг, 70 м3, продукты питания\\n        </p>\\n        <h3 class=\"txt-muted auction-subtitle body-style trade-link\">Организатор</h3>\\n        <div class=\"auction-org trade-link\">ООО &quot;Велесстрой&quot;</div>\\n        <div class=\"row\">\\n            <div class=\"col trade-link\">\\n                <h3 class=\"txt-muted auction-subtitle body-style\">Актуально</h3>\\n                                    <time class=\"strong\">30.10.2020 14:00</time>\\n                            </div>\\n            <div class=\"col trade-link\">\\n                <h3 class=\"txt-muted auction-subtitle body-style\">Опубликовано</h3>\\n                <time>30.10.2020 12:33</time>\\n            </div>\\n        </div>\\n    </section>\\n    <section class=\"auction\" data-url=\"/market/rama-v-sbore-cat-3446891-vozmozhna-postavka-tovara-b-u/tender-2493922/\">\\n        <div class=\"row\">\\n            <div class=\"col\">\\n                <h2 class=\"h5 auction-title afake trade-link\">\\n                    Запрос предложений&nbsp№&nbsp2493922\\n                </h2>\\n            </div>\\n                    </div>\\n        <p class=\"auction-desc txt-ellipsis-multiple trade-link\" data-txt-ellipsis-id=\"txt\"\\n           data-wrap=\"children\"\\n           data-txt-ellipsis-ctrl=\"true\" data-txt-ellipsis-ctrl-toggle=\"false\">\\n            Рама в сборе CAT 3446891\\nВозможна поставка товара б/у\\nПоставка товара строго в соответствии с номенклатурой во вложении.  Предложения с недостающими позициями принимаются.\\n        </p>\\n        <h3 class=\"txt-muted auction-subtitle body-style trade-link\">Организатор</h3>\\n        <div class=\"auction-org trade-link\">ПАО &quot;Высочайший&quot;</div>\\n        <div class=\"row\">\\n            <div class=\"col trade-link\">\\n                <h3 class=\"txt-muted auction-subtitle body-style\">Актуально</h3>\\n                                    <time class=\"strong\">30.10.2020 12:31</time>\\n                            </div>\\n            <div class=\"col trade-link\">\\n                <h3 class=\"txt-muted auction-subtitle body-style\">Опубликовано</h3>\\n                <time>30.10.2020 12:30</time>\\n            </div>\\n        </div>\\n    </section>\\n    <section class=\"auction\" data-url=\"/market/pribory/tender-2485538/\">\\n        <div class=\"row\">\\n            <div class=\"col\">\\n                <h2 class=\"h5 auction-title afake trade-link\">\\n                    Запрос предложений&nbsp№&nbsp2485538\\n                </h2>\\n            </div>\\n                    </div>\\n        <p class=\"auction-desc txt-ellipsis-multiple trade-link\" data-txt-ellipsis-id=\"txt\"\\n           data-wrap=\"children\"\\n           data-txt-ellipsis-ctrl=\"true\" data-txt-ellipsis-ctrl-toggle=\"false\">\\n            Приборы\\nсм. вкладку &quot;Закупочные позиции&quot;\\n        </p>\\n        <h3 class=\"txt-muted auction-subtitle body-style trade-link\">Организатор</h3>\\n        <div class=\"auction-org trade-link\">ООО &quot;ТД Полиметалл&quot;</div>\\n        <div class=\"row\">\\n            <div class=\"col trade-link\">\\n                <h3 class=\"txt-muted auction-subtitle body-style\">Актуально</h3>\\n                                    <time class=\"strong\">30.10.2020 12:29</time>\\n                            </div>\\n            <div class=\"col trade-link\">\\n                <h3 class=\"txt-muted auction-subtitle body-style\">Опубликовано</h3>\\n                <time>30.10.2020 12:28</time>\\n            </div>\\n        </div>\\n    </section>\\n    <section class=\"auction\" data-url=\"/market/ki-24674-1-data-pogruzki-02-11-2020-elektrotekhnicheskaia/tender-2493902/\">\\n        <div class=\"row\">\\n            <div class=\"col\">\\n                <h2 class=\"h5 auction-title afake trade-link\">\\n                    Закрытый запрос предложений&nbsp№&nbsp2493902\\n                </h2>\\n            </div>\\n                    </div>\\n        <p class=\"auction-desc txt-ellipsis-multiple trade-link\" data-txt-ellipsis-id=\"txt\"\\n           data-wrap=\"children\"\\n           data-txt-ellipsis-ctrl=\"true\" data-txt-ellipsis-ctrl-toggle=\"false\">\\n            KI-24674-1\\nДата погрузки\\n02.11.2020\\nЭЛЕКТРОТЕХНИЧЕСКАЯ ПРОДУКЦИЯ\\nВес, т\\n2,187\\nОбъем, м3\\n11,4\\n3\\tПоддоны\\nТип погрузки\\nБоковая Погрузка;\\nАдрес погрузки\\n194292, СПБ, Санкт-Петербург, 5-й Верхний пер., 19 лит.Б\\nАдрес доставки\\n620050, Екатеринбург, Свердловская область, ул. Электродепо, 3\\nПримечания\\n&quot;не штабелировать!\\nПоддоны 4.3х1.2х1м !!!\\nбоковая погрузка!&quot;\\n        </p>\\n        <h3 class=\"txt-muted auction-subtitle body-style trade-link\">Организатор</h3>\\n        <div class=\"auction-org trade-link\">ООО &quot;Жефко&quot;</div>\\n        <div class=\"row\">\\n            <div class=\"col trade-link\">\\n                <h3 class=\"txt-muted auction-subtitle body-style\">Актуально</h3>\\n                                    <time class=\"strong\">30.10.2020 13:30</time>\\n                            </div>\\n            <div class=\"col trade-link\">\\n                <h3 class=\"txt-muted auction-subtitle body-style\">Опубликовано</h3>\\n                <time>30.10.2020 12:18</time>\\n            </div>\\n        </div>\\n    </section>\\n    <section class=\"auction\" data-url=\"/market/uslugi-po-perevozke-gotovoi-produktsii/tender-2493898/\">\\n        <div class=\"row\">\\n            <div class=\"col\">\\n                <h2 class=\"h5 auction-title afake trade-link\">\\n                    Закрытый запрос предложений&nbsp№&nbsp2493898\\n                </h2>\\n            </div>\\n                    </div>\\n        <p class=\"auction-desc txt-ellipsis-multiple trade-link\" data-txt-ellipsis-id=\"txt\"\\n           data-wrap=\"children\"\\n           data-txt-ellipsis-ctrl=\"true\" data-txt-ellipsis-ctrl-toggle=\"false\">\\n            Услуги по перевозке готовой продукции\\n        </p>\\n        <h3 class=\"txt-muted auction-subtitle body-style trade-link\">Организатор</h3>\\n        <div class=\"auction-org trade-link\">АО «Кордиант» </div>\\n        <div class=\"row\">\\n            <div class=\"col trade-link\">\\n                <h3 class=\"txt-muted auction-subtitle body-style\">Актуально</h3>\\n                                    <time class=\"strong\">30.10.2020 13:20</time>\\n                            </div>\\n            <div class=\"col trade-link\">\\n                <h3 class=\"txt-muted auction-subtitle body-style\">Опубликовано</h3>\\n                <time>30.10.2020 12:18</time>\\n            </div>\\n        </div>\\n    </section>\\n    <section class=\"auction\" data-url=\"/market/tender/tender-2493880/\">\\n        <div class=\"row\">\\n            <div class=\"col\">\\n                <h2 class=\"h5 auction-title afake trade-link\">\\n                    Закрытый запрос предложений&nbsp№&nbsp2493880\\n                </h2>\\n            </div>\\n                    </div>\\n        <p class=\"auction-desc txt-ellipsis-multiple trade-link\" data-txt-ellipsis-id=\"txt\"\\n           data-wrap=\"children\"\\n           data-txt-ellipsis-ctrl=\"true\" data-txt-ellipsis-ctrl-toggle=\"false\">\\n            тендер\\nМО, Кубинка- Архангельск\\nРефрижератор, 20 000кг, 70 м3, продукты питания\\n        </p>\\n        <h3 class=\"txt-muted auction-subtitle body-style trade-link\">Организатор</h3>\\n        <div class=\"auction-org trade-link\">ООО &quot;Велесстрой&quot;</div>\\n        <div class=\"row\">\\n            <div class=\"col trade-link\">\\n                <h3 class=\"txt-muted auction-subtitle body-style\">Актуально</h3>\\n                                    <time class=\"strong\">30.10.2020 12:32</time>\\n                            </div>\\n            <div class=\"col trade-link\">\\n                <h3 class=\"txt-muted auction-subtitle body-style\">Опубликовано</h3>\\n                <time>30.10.2020 12:00</time>\\n            </div>\\n        </div>\\n    </section>\\n<script>\\n\\t$(function () {\\n\\t\\t$(\\'.trade-link\\').on(\\'click\\', function () {\\n\\t\\t\\twindow.location.href = $(this).closest(\\'.auction\\').data(\\'url\\');\\n\\t\\t});\\n\\t});\\n</script>\\n<div class=\"pagi pagi--mobile\">\\n\\t\\t\\t<div class=\"pagi-ctrl pagi-ctrl-hid\"><a href=\"#\"><i class=\"icoS ico\" data-ico=\"arrowLeft-s\"><svg viewbox=\"0 0 20 20\" xmlns=\"http://www.w3.org/2000/svg\"><g id=\"&#x418;&#x43A;&#x43E;&#x43D;&#x43A;&#x438;/20/arrowLeft-s\" fill-rule=\"evenodd\"><path d=\"M12.707 10.414l-5 5L7 14.707l5-5-5-5L7.707 4l5.707 5.707-.707.707z\" id=\"Combined-Shape\" transform=\"matrix(-1 0 0 1 20.414 0)\"/></g></svg></i></a></div>\\n\\t\\t\\t<ul class=\"pagi-list\">\\n\\t\\t\\t\\t\\t\\t\\t\\t\\t<li class=\"pagi-item pagi-item-current\">1</li>\\n\\t\\t\\t\\t\\t\\t\\t\\t\\t\\t\\t\\t<li class=\"pagi-item\">\\n\\t\\t\\t\\t\\t<a title=\"21 - 40\" href=\"/market/?show=archive&from_archive=20\">2</a>\\n\\t\\t\\t\\t</li>\\n\\t\\t\\t\\t\\t\\t\\t\\t\\t\\t\\t\\t<li class=\"pagi-item\">\\n\\t\\t\\t\\t\\t<a title=\"41 - 60\" href=\"/market/?show=archive&from_archive=40\">3</a>\\n\\t\\t\\t\\t</li>\\n\\t\\t\\t\\t\\t\\t\\t\\t\\t\\t\\t\\t<li class=\"pagi-item\">\\n\\t\\t\\t\\t\\t<a title=\"61 - 80\" href=\"/market/?show=archive&from_archive=60\">4</a>\\n\\t\\t\\t\\t</li>\\n\\t\\t\\t\\t\\t\\t\\t\\t\\t\\t\\t\\t<li class=\"pagi-item\">\\n\\t\\t\\t\\t\\t<a title=\"81 - 100\" href=\"/market/?show=archive&from_archive=80\">5</a>\\n\\t\\t\\t\\t</li>\\n\\t\\t\\t\\t\\t\\t\\t\\t\\t\\t\\t\\t<li class=\"pagi-item\">\\n\\t\\t\\t\\t\\t<a title=\"101 - 120\" href=\"/market/?show=archive&from_archive=100\">6</a>\\n\\t\\t\\t\\t</li>\\n\\t\\t\\t\\t\\t\\t\\t\\t\\t\\t\\t\\t<li class=\"pagi-item\">\\n\\t\\t\\t\\t\\t<a title=\"121 - 140\" href=\"/market/?show=archive&from_archive=120\">7</a>\\n\\t\\t\\t\\t</li>\\n\\t\\t\\t\\t\\t\\t\\t\\t\\t\\t\\t\\t<li class=\"pagi-item\">...</li>\\n\\t\\t\\t\\t\\t\\t\\t\\t\\t\\t\\t\\t<li class=\"pagi-item\">\\n\\t\\t\\t\\t\\t<a title=\"1514061 - 1514079\" href=\"/market/?show=archive&from_archive=1514060\">75704</a>\\n\\t\\t\\t\\t</li>\\n\\t\\t\\t\\t\\t\\t</ul>\\n\\t\\t\\t<div class=\"pagi-ctrl\"><a href=\"/market/?show=archive&from_archive=20\"><i class=\"icoS ico\" data-ico=\"arrowRight-s\"><svg viewbox=\"0 0 20 20\" xmlns=\"http://www.w3.org/2000/svg\"><g id=\"&#x418;&#x43A;&#x43E;&#x43D;&#x43A;&#x438;/20/arrowRight-s\" fill-rule=\"evenodd\"><path d=\"M12.707 10.414l-5 5L7 14.707l5-5-5-5L7.707 4l5.707 5.707-.707.707z\" id=\"Combined-Shape\"/></g></svg></i></a></div>\\n\\t</div>\\n\\t</div>\\n\\n    </main>\\n\\n            \\n    <script src=\"/builds/js/min/bundles/common.build.js\"></script>\\n<script src=\"/builds/js/min/bundles/b2bcenter___mobile.build.js\"></script>\\n<script src=\"/builds/js/min/components/B2BCenter/Common/Widget/TrackingCode.es6.js\"></script>\\n<script src=\"/js/fingerprint2.min.js\"></script>\\n\\n<script type=\"text/javascript\">\\ntry {\\nwindow.ga=window.ga||function(){(ga.q=ga.q||[]).push(arguments)};ga.l=+new Date;\\n\\t\\ttypeof TrackingCode !== \\'undefined\\' && TrackingCode.initGoogleAnalytics([[\"create\",\"UA-3465971-4\",\"auto\",{\"allowLinker\":\"true\"}],[\"require\",\"linker\"],[\"linker:autoLink\",[\"www.rosatom.b2b-center.ru\"],[\"umestentorg.com\"]],[\"require\",\"linkid\",\"linkid.js\"],[\"require\",\"displayfeatures\"],[\"set\",\"dimension1\",\"na\"],[\"set\",\"dimension2\",\"\"],[\"set\",\"dimension3\",\"na\"],[\"set\",\"dimension5\",\"na\"],[\"set\",\"dimension6\",\"na\"],[\"set\",\"dimension8\",\"na\"],[\"set\",\"dimension9\",\"mobile\"],[\"send\",\"pageview\"]]);\\n} catch (error) {\\n JsErrorReporter.reportError(error, false, true); \\n Sentry.captureException(error); \\n}\\n\\ntry {\\n\\t\\t\\t$(\"body\").on(\"click\", \".full_version\", function(e) {\\n  \\t\\t\\t\\tif (window.ga !== undefined) {\\n\\tga(\\'send\\', \\'event\\', \\'Mobile\\', \\'Кнопка \\\\\"Полная версия сайта\\\\\" в меню\\', \\'/market/?show=archive\\', {\"nonInteraction\":1});\\n}\\n\\t\\t\\t});\\t\\t\\n} catch (error) {\\n JsErrorReporter.reportError(error, false, true); \\n Sentry.captureException(error); \\n}\\n\\n</script>\\n\\n</body>\\n</html>\\n'"
      ]
     },
     "execution_count": 20,
     "metadata": {},
     "output_type": "execute_result"
    }
   ],
   "source": [
    "soup = BeautifulSoup(html.text, 'html.parser')\n",
    "html.text\n",
    "\n",
    "# search_table = soup.find_all('table', class_='table table-hover table-filled search-results')\n",
    "\n",
    "# links = search_table[0].tbody.find_all('a')\n",
    "# dates = search_table[0].tbody.find_all('td', class_='nowrap')\n",
    "# links[39].text.strip()"
   ]
  },
  {
   "cell_type": "markdown",
   "metadata": {},
   "source": [
    "### Функция возвращает результат HTML запроса"
   ]
  },
  {
   "cell_type": "code",
   "execution_count": 7,
   "metadata": {},
   "outputs": [],
   "source": [
    "def get_html(url, params=None):\n",
    "    r = requests.get(url, headers=HEADERS, params=params)\n",
    "    return r"
   ]
  },
  {
   "cell_type": "markdown",
   "metadata": {},
   "source": [
    "### Функция возвращает элемент url адреса from для последней страницы"
   ]
  },
  {
   "cell_type": "code",
   "execution_count": 8,
   "metadata": {},
   "outputs": [],
   "source": [
    "def get_last_page(html):\n",
    "    soup = BeautifulSoup(html.text, 'html.parser')\n",
    "    search_pagination = soup.find_all('li', class_='pagi-item')\n",
    "    return int(search_pagination[-1].a.get('href').split('from_archive=')[1])"
   ]
  },
  {
   "cell_type": "code",
   "execution_count": 456,
   "metadata": {},
   "outputs": [
    {
     "name": "stdout",
     "output_type": "stream",
     "text": [
      "[======================================--] 95.92% ...\r"
     ]
    },
    {
     "ename": "IndexError",
     "evalue": "list index out of range",
     "output_type": "error",
     "traceback": [
      "\u001b[1;31m---------------------------------------------------------------------------\u001b[0m",
      "\u001b[1;31mIndexError\u001b[0m                                Traceback (most recent call last)",
      "\u001b[1;32m<timed exec>\u001b[0m in \u001b[0;36m<module>\u001b[1;34m\u001b[0m\n",
      "\u001b[1;32m<ipython-input-417-ea2008579325>\u001b[0m in \u001b[0;36mparse_list_page\u001b[1;34m(html)\u001b[0m\n\u001b[0;32m      3\u001b[0m     \u001b[0msearch_table\u001b[0m \u001b[1;33m=\u001b[0m \u001b[0msoup\u001b[0m\u001b[1;33m.\u001b[0m\u001b[0mfind_all\u001b[0m\u001b[1;33m(\u001b[0m\u001b[1;34m'table'\u001b[0m\u001b[1;33m,\u001b[0m \u001b[0mclass_\u001b[0m\u001b[1;33m=\u001b[0m\u001b[1;34m'table table-hover table-filled search-results'\u001b[0m\u001b[1;33m)\u001b[0m\u001b[1;33m\u001b[0m\u001b[1;33m\u001b[0m\u001b[0m\n\u001b[0;32m      4\u001b[0m \u001b[1;33m\u001b[0m\u001b[0m\n\u001b[1;32m----> 5\u001b[1;33m     \u001b[0mlinks\u001b[0m \u001b[1;33m=\u001b[0m \u001b[0msearch_table\u001b[0m\u001b[1;33m[\u001b[0m\u001b[1;36m0\u001b[0m\u001b[1;33m]\u001b[0m\u001b[1;33m.\u001b[0m\u001b[0mtbody\u001b[0m\u001b[1;33m.\u001b[0m\u001b[0mfind_all\u001b[0m\u001b[1;33m(\u001b[0m\u001b[1;34m'a'\u001b[0m\u001b[1;33m)\u001b[0m\u001b[1;33m\u001b[0m\u001b[1;33m\u001b[0m\u001b[0m\n\u001b[0m\u001b[0;32m      6\u001b[0m     \u001b[0mdates\u001b[0m \u001b[1;33m=\u001b[0m \u001b[0msearch_table\u001b[0m\u001b[1;33m[\u001b[0m\u001b[1;36m0\u001b[0m\u001b[1;33m]\u001b[0m\u001b[1;33m.\u001b[0m\u001b[0mtbody\u001b[0m\u001b[1;33m.\u001b[0m\u001b[0mfind_all\u001b[0m\u001b[1;33m(\u001b[0m\u001b[1;34m'td'\u001b[0m\u001b[1;33m,\u001b[0m \u001b[0mclass_\u001b[0m\u001b[1;33m=\u001b[0m\u001b[1;34m'nowrap'\u001b[0m\u001b[1;33m)\u001b[0m\u001b[1;33m\u001b[0m\u001b[1;33m\u001b[0m\u001b[0m\n\u001b[0;32m      7\u001b[0m \u001b[1;33m\u001b[0m\u001b[0m\n",
      "\u001b[1;31mIndexError\u001b[0m: list index out of range"
     ]
    }
   ],
   "source": [
    "%%time\n",
    "df_init()\n",
    "html = get_html(START_URL)\n",
    "\n",
    "last_page = get_last_page(html)\n",
    "last_page = 980\n",
    "parse_list_page(html)\n",
    "\n",
    "for i in range(REC_PER_PAGE, last_page + REC_PER_PAGE, REC_PER_PAGE):\n",
    "    curl = START_URL + '&from_archive=' + str(i)\n",
    "    html = get_html(curl)\n",
    "    parse_list_page(html)\n",
    "    progress(i, last_page)\n",
    "    sleep(randint(10, 20) / 10)"
   ]
  },
  {
   "cell_type": "code",
   "execution_count": 9,
   "metadata": {},
   "outputs": [
    {
     "ename": "NameError",
     "evalue": "name 'html' is not defined",
     "output_type": "error",
     "traceback": [
      "\u001b[1;31m---------------------------------------------------------------------------\u001b[0m",
      "\u001b[1;31mNameError\u001b[0m                                 Traceback (most recent call last)",
      "\u001b[1;32m<ipython-input-9-d0e9663e24f4>\u001b[0m in \u001b[0;36m<module>\u001b[1;34m\u001b[0m\n\u001b[1;32m----> 1\u001b[1;33m \u001b[0mhtml\u001b[0m\u001b[1;33m\u001b[0m\u001b[1;33m\u001b[0m\u001b[0m\n\u001b[0m",
      "\u001b[1;31mNameError\u001b[0m: name 'html' is not defined"
     ]
    }
   ],
   "source": [
    "html"
   ]
  },
  {
   "cell_type": "code",
   "execution_count": 467,
   "metadata": {},
   "outputs": [],
   "source": [
    "# df.info()\n",
    "#df['Sponsor'].value_counts()\n",
    "#df.to_excel('export/first_960.xls')\n",
    "#df.to_pickle('export/first_960.pkl')"
   ]
  },
  {
   "cell_type": "code",
   "execution_count": 479,
   "metadata": {},
   "outputs": [
    {
     "data": {
      "text/html": [
       "<div>\n",
       "<style scoped>\n",
       "    .dataframe tbody tr th:only-of-type {\n",
       "        vertical-align: middle;\n",
       "    }\n",
       "\n",
       "    .dataframe tbody tr th {\n",
       "        vertical-align: top;\n",
       "    }\n",
       "\n",
       "    .dataframe thead th {\n",
       "        text-align: right;\n",
       "    }\n",
       "</style>\n",
       "<table border=\"1\" class=\"dataframe\">\n",
       "  <thead>\n",
       "    <tr style=\"text-align: right;\">\n",
       "      <th></th>\n",
       "      <th>Id</th>\n",
       "      <th>Type</th>\n",
       "      <th>Name</th>\n",
       "      <th>Sponsor</th>\n",
       "      <th>Link</th>\n",
       "      <th>Start_date</th>\n",
       "      <th>End_date</th>\n",
       "    </tr>\n",
       "  </thead>\n",
       "  <tbody>\n",
       "    <tr>\n",
       "      <th>1</th>\n",
       "      <td>2493647</td>\n",
       "      <td>Закрытый запрос предложений</td>\n",
       "      <td>NaN</td>\n",
       "      <td>ООО \"Жефко\"</td>\n",
       "      <td>https://www.b2b-center.ru/market/ki-24674-1-da...</td>\n",
       "      <td>30.10.2020 10:06</td>\n",
       "      <td>30.10.2020 11:15</td>\n",
       "    </tr>\n",
       "    <tr>\n",
       "      <th>2</th>\n",
       "      <td>2493618</td>\n",
       "      <td>Закрытый запрос предложений</td>\n",
       "      <td>Услуги по перевозке готовой продукции на 31.10</td>\n",
       "      <td>АО «Кордиант»</td>\n",
       "      <td>https://www.b2b-center.ru/market/uslugi-po-per...</td>\n",
       "      <td>30.10.2020 09:50</td>\n",
       "      <td>30.10.2020 11:01</td>\n",
       "    </tr>\n",
       "    <tr>\n",
       "      <th>3</th>\n",
       "      <td>2493590</td>\n",
       "      <td>Закрытый запрос предложений</td>\n",
       "      <td>Услуги по перевозке готовой продукции</td>\n",
       "      <td>АО «Кордиант»</td>\n",
       "      <td>https://www.b2b-center.ru/market/uslugi-po-per...</td>\n",
       "      <td>30.10.2020 09:47</td>\n",
       "      <td>30.10.2020 10:43</td>\n",
       "    </tr>\n",
       "    <tr>\n",
       "      <th>4</th>\n",
       "      <td>2493564</td>\n",
       "      <td>Закрытый запрос предложений</td>\n",
       "      <td>NaN</td>\n",
       "      <td>ООО \"Жефко\"</td>\n",
       "      <td>https://www.b2b-center.ru/market/ki-24672-1-30...</td>\n",
       "      <td>30.10.2020 09:18</td>\n",
       "      <td>30.10.2020 11:00</td>\n",
       "    </tr>\n",
       "    <tr>\n",
       "      <th>5</th>\n",
       "      <td>2493556</td>\n",
       "      <td>Закрытый запрос предложений</td>\n",
       "      <td>NaN</td>\n",
       "      <td>ООО \"Жефко\"</td>\n",
       "      <td>https://www.b2b-center.ru/market/zapros-stavki...</td>\n",
       "      <td>30.10.2020 09:16</td>\n",
       "      <td>30.10.2020 11:00</td>\n",
       "    </tr>\n",
       "    <tr>\n",
       "      <th>...</th>\n",
       "      <td>...</td>\n",
       "      <td>...</td>\n",
       "      <td>...</td>\n",
       "      <td>...</td>\n",
       "      <td>...</td>\n",
       "      <td>...</td>\n",
       "      <td>...</td>\n",
       "    </tr>\n",
       "    <tr>\n",
       "      <th>950</th>\n",
       "      <td>2488274</td>\n",
       "      <td>Закрытый запрос предложений</td>\n",
       "      <td>NaN</td>\n",
       "      <td>ЗАО \"ТОРГОВЫЙ ДОМ \"ПЕРЕКРЕСТОК\"</td>\n",
       "      <td>https://www.b2b-center.ru/market/vybor-postavs...</td>\n",
       "      <td>23.10.2020 17:21</td>\n",
       "      <td>28.10.2020 12:00</td>\n",
       "    </tr>\n",
       "    <tr>\n",
       "      <th>952</th>\n",
       "      <td>2488287</td>\n",
       "      <td>Закрытый запрос предложений</td>\n",
       "      <td>NaN</td>\n",
       "      <td>ООО \"Велесстрой\"</td>\n",
       "      <td>https://www.b2b-center.ru/market/log02-333mva/...</td>\n",
       "      <td>23.10.2020 17:13</td>\n",
       "      <td>26.10.2020 11:00</td>\n",
       "    </tr>\n",
       "    <tr>\n",
       "      <th>954</th>\n",
       "      <td>2488251</td>\n",
       "      <td>Закрытый запрос предложений</td>\n",
       "      <td>NaN</td>\n",
       "      <td>ООО УК \"МЕТАЛЛОИНВЕСТ\"</td>\n",
       "      <td>https://www.b2b-center.ru/market/kolodka-tormo...</td>\n",
       "      <td>23.10.2020 17:06</td>\n",
       "      <td>29.10.2020 10:00</td>\n",
       "    </tr>\n",
       "    <tr>\n",
       "      <th>956</th>\n",
       "      <td>2486373</td>\n",
       "      <td>Закрытый запрос предложений</td>\n",
       "      <td>«Поставка арматурного металлопроката автотранс...</td>\n",
       "      <td>ООО \"ГК ФСК\"</td>\n",
       "      <td>https://www.b2b-center.ru/market/postavka-arma...</td>\n",
       "      <td>23.10.2020 17:03</td>\n",
       "      <td>26.10.2020 19:55</td>\n",
       "    </tr>\n",
       "    <tr>\n",
       "      <th>958</th>\n",
       "      <td>2488010</td>\n",
       "      <td>Закрытый запрос предложений</td>\n",
       "      <td>NaN</td>\n",
       "      <td>ООО УК \"МЕТАЛЛОИНВЕСТ\"</td>\n",
       "      <td>https://www.b2b-center.ru/market/apparat-svaro...</td>\n",
       "      <td>23.10.2020 17:00</td>\n",
       "      <td>23.10.2020 17:03</td>\n",
       "    </tr>\n",
       "  </tbody>\n",
       "</table>\n",
       "<p>493 rows × 7 columns</p>\n",
       "</div>"
      ],
      "text/plain": [
       "          Id                         Type  \\\n",
       "1    2493647  Закрытый запрос предложений   \n",
       "2    2493618  Закрытый запрос предложений   \n",
       "3    2493590  Закрытый запрос предложений   \n",
       "4    2493564  Закрытый запрос предложений   \n",
       "5    2493556  Закрытый запрос предложений   \n",
       "..       ...                          ...   \n",
       "950  2488274  Закрытый запрос предложений   \n",
       "952  2488287  Закрытый запрос предложений   \n",
       "954  2488251  Закрытый запрос предложений   \n",
       "956  2486373  Закрытый запрос предложений   \n",
       "958  2488010  Закрытый запрос предложений   \n",
       "\n",
       "                                                  Name  \\\n",
       "1                                                  NaN   \n",
       "2       Услуги по перевозке готовой продукции на 31.10   \n",
       "3                Услуги по перевозке готовой продукции   \n",
       "4                                                  NaN   \n",
       "5                                                  NaN   \n",
       "..                                                 ...   \n",
       "950                                                NaN   \n",
       "952                                                NaN   \n",
       "954                                                NaN   \n",
       "956  «Поставка арматурного металлопроката автотранс...   \n",
       "958                                                NaN   \n",
       "\n",
       "                             Sponsor  \\\n",
       "1                        ООО \"Жефко\"   \n",
       "2                      АО «Кордиант»   \n",
       "3                      АО «Кордиант»   \n",
       "4                        ООО \"Жефко\"   \n",
       "5                        ООО \"Жефко\"   \n",
       "..                               ...   \n",
       "950  ЗАО \"ТОРГОВЫЙ ДОМ \"ПЕРЕКРЕСТОК\"   \n",
       "952                 ООО \"Велесстрой\"   \n",
       "954           ООО УК \"МЕТАЛЛОИНВЕСТ\"   \n",
       "956                     ООО \"ГК ФСК\"   \n",
       "958           ООО УК \"МЕТАЛЛОИНВЕСТ\"   \n",
       "\n",
       "                                                  Link        Start_date  \\\n",
       "1    https://www.b2b-center.ru/market/ki-24674-1-da...  30.10.2020 10:06   \n",
       "2    https://www.b2b-center.ru/market/uslugi-po-per...  30.10.2020 09:50   \n",
       "3    https://www.b2b-center.ru/market/uslugi-po-per...  30.10.2020 09:47   \n",
       "4    https://www.b2b-center.ru/market/ki-24672-1-30...  30.10.2020 09:18   \n",
       "5    https://www.b2b-center.ru/market/zapros-stavki...  30.10.2020 09:16   \n",
       "..                                                 ...               ...   \n",
       "950  https://www.b2b-center.ru/market/vybor-postavs...  23.10.2020 17:21   \n",
       "952  https://www.b2b-center.ru/market/log02-333mva/...  23.10.2020 17:13   \n",
       "954  https://www.b2b-center.ru/market/kolodka-tormo...  23.10.2020 17:06   \n",
       "956  https://www.b2b-center.ru/market/postavka-arma...  23.10.2020 17:03   \n",
       "958  https://www.b2b-center.ru/market/apparat-svaro...  23.10.2020 17:00   \n",
       "\n",
       "             End_date  \n",
       "1    30.10.2020 11:15  \n",
       "2    30.10.2020 11:01  \n",
       "3    30.10.2020 10:43  \n",
       "4    30.10.2020 11:00  \n",
       "5    30.10.2020 11:00  \n",
       "..                ...  \n",
       "950  28.10.2020 12:00  \n",
       "952  26.10.2020 11:00  \n",
       "954  29.10.2020 10:00  \n",
       "956  26.10.2020 19:55  \n",
       "958  23.10.2020 17:03  \n",
       "\n",
       "[493 rows x 7 columns]"
      ]
     },
     "execution_count": 479,
     "metadata": {},
     "output_type": "execute_result"
    }
   ],
   "source": [
    "df.loc[df['Type'].str.contains('Закры')]"
   ]
  }
 ],
 "metadata": {
  "kernelspec": {
   "display_name": "Python 3",
   "language": "python",
   "name": "python3"
  },
  "language_info": {
   "codemirror_mode": {
    "name": "ipython",
    "version": 3
   },
   "file_extension": ".py",
   "mimetype": "text/x-python",
   "name": "python",
   "nbconvert_exporter": "python",
   "pygments_lexer": "ipython3",
   "version": "3.8.3"
  }
 },
 "nbformat": 4,
 "nbformat_minor": 4
}
